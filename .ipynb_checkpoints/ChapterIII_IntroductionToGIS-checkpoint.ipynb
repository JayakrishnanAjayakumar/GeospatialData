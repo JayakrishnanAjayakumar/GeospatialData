{
 "cells": [
  {
   "cell_type": "markdown",
   "id": "fbd65bbc-e3c3-439a-8661-0374ba157827",
   "metadata": {},
   "source": [
    "# What is a Geographical Information System?\n",
    "\n",
    "We have to first define an **Information System**\n",
    "\n",
    ">An information system is an **association of people, machines, data, and procedures working together to collect, manage, and distribute information of importance to individuals or organizations**. \n",
    "\n",
    "A typical example would be  the World Wide Web (WWW). The WWW comprises data (web pages) and\n",
    "machines (web servers and web browsers), but also the many people across the world who use the WWW and the procedures for maintaining\n",
    "information on the WWW.\n",
    "\n",
    "## What is a GIS?\n",
    "\n",
    ">A **geographic information system is a computer-based information system capture, modeling, storage, retrieval, sharing, manipulation, analysis, and presentation of geographically referenced data (geospatial data)**.\n",
    "\n",
    "![GIS](images/GIS_schematic.PNG)"
   ]
  },
  {
   "cell_type": "markdown",
   "id": "05220e64-7cd3-4a2d-b782-f3a765bda2aa",
   "metadata": {},
   "source": [
    "So \n",
    "\n",
    "## Is it a **Computer Software**?\n",
    "\n",
    "TODO:A picture of using GIS as a software"
   ]
  },
  {
   "cell_type": "markdown",
   "id": "bc418c97-41fc-4b53-811f-af143c34c1b5",
   "metadata": {},
   "source": [
    "## Is it a collection of **Computer Hardware**?\n",
    "\n",
    "TODO:A picture of using GIS as a hardware"
   ]
  },
  {
   "cell_type": "markdown",
   "id": "7ea49c41-1537-4a40-bce0-b5eed8ebe43c",
   "metadata": {},
   "source": [
    "## Is it a **Web Service**?\n",
    "\n",
    "TODO:A picture of using GIS as a web service"
   ]
  },
  {
   "cell_type": "markdown",
   "id": "083717b5-85ec-425f-a7bf-861a28ffb8fe",
   "metadata": {},
   "source": [
    "## Is it a **Tool**?\n",
    "\n",
    "TODO:A picture of tool"
   ]
  },
  {
   "cell_type": "markdown",
   "id": "d696784b-70be-4455-86ad-edc47a569c85",
   "metadata": {},
   "source": [
    "## Is it a **System**?\n",
    "\n",
    "TODO:A picture of system"
   ]
  },
  {
   "cell_type": "markdown",
   "id": "c3aa1d30-c0bc-4254-ab02-097e7ad96a47",
   "metadata": {},
   "source": [
    "## Or is it a **Science**?\n",
    "\n",
    "TODO:A picture of science"
   ]
  },
  {
   "cell_type": "markdown",
   "id": "35293bad-2d07-45ce-9b76-54e156df7e51",
   "metadata": {},
   "source": [
    "## So what do you think?"
   ]
  },
  {
   "cell_type": "markdown",
   "id": "da40d882-d608-4edb-85dc-67481a3845f8",
   "metadata": {},
   "source": [
    "## GIS is **all of the above and more**"
   ]
  },
  {
   "cell_type": "markdown",
   "id": "0622fc5b-178b-4e73-b77d-d6bd48ab1f32",
   "metadata": {},
   "source": [
    "### From a software prespective\n",
    "\n",
    "As a software GIS consist of *special type of computer program* capable of *storing, editing, processing, and presenting geographical data and information*. \n",
    "\n",
    "Some of the key software providers include \n",
    "\n",
    "1. Environmental Systems Research Institute (ESRI)\n",
    "2. QGIS (Open Source GIS)\n",
    "3. Geographic Resources Analysis Support System (GRASS)\n",
    "\n",
    "TODO:A picture of some GIS softwares\n",
    "\n",
    "### From a hardware perspective\n",
    "\n",
    "As hardware, a GIS consists of a *computer, memory, storage devices, scanners, printers, global positioning system (GPS) units, and other physical components**.\n",
    "\n",
    "### As a tool\n",
    "\n",
    "As a tool, a GIS permits us to **maintain, analyze, and share a wealth of data and information**.\n",
    "\n",
    "For example it could be a simple task of mapping the path of a hurricance.\n",
    "\n",
    "TODO:A picture of hurricane mapping\n",
    "\n",
    "Or it could be a complex task as determining the most efficient routes for an ambulance service in a city.\n",
    "\n",
    "TODO:A picture of efficient routes for an ambulance service\n",
    "\n",
    "\n",
    "So we can see that there is no single or universally accepted definition of a GIS. **There are as many definitions of GIS as there are people who use GIS**. A city planner will have completely different view of GIS as a public health expert or even a human geographer. \n",
    "\n",
    "TODO:A collage picture of how GIS is viewed by different people in different domains.\n",
    "\n",
    "While there are many definition for GIS, there are **three general approaches to understanding GIS**"
   ]
  },
  {
   "cell_type": "markdown",
   "id": "04b5bba0-13f7-4954-b23e-66da0acccb30",
   "metadata": {},
   "source": [
    "1. The **Application approach**\n",
    "\n",
    "This approach considers **GIS to be a Tool**. Most of the users of GIS falls into this cateogry. This perspective of GIS is focused on **decision making, maintaining inventory of geographic data and information and mapping**. This approach is more concerned with **using and applying GIS to solve problems than the GIS itself**. \n",
    "\n",
    "For example finding the best location for a supermarket like Walmart. \n",
    "\n",
    "TODO: GIS location allocation super market"
   ]
  },
  {
   "cell_type": "markdown",
   "id": "4840b801-a496-4fc9-a499-785c647bd9f8",
   "metadata": {},
   "source": [
    "2. The **Developer approach**\n",
    "\n",
    "The developer approach is concerned with the development of the GIS as a **software or technology platform**. Rather than focusing on **how a GIS is used and applied, the developer approach is concerned with improving, refining, and extending the tool and technology itself and is largely in the realm of computer programmers and software developers**. Application approach and Developement Approach goes hand in hand. When you have requirement at the application side, the developers adapt the GIS to accomodate the new use-case.\n",
    "\n",
    "TODO: For example developing open source softwares, web mashups etc."
   ]
  },
  {
   "cell_type": "markdown",
   "id": "018127c1-516a-4db3-b16f-59a375532aae",
   "metadata": {},
   "source": [
    "3. The **Science approach**\n",
    "\n",
    "As the name suggests the science approach of GIS is concerned with broader questions and **how geography, cognition, map interpretation, and other geospatial issues such as accuracy,errors, uncertanity, privacy are relevant to GIS and vice versa**. Due to the popularity of the science approach, GIS is also referred to as **geographic information science (GIScience)**. Geographic Information Science is also intersted in social consequences and implications of the use and diffusion of GIS technology. \n",
    "\n",
    "Perhaps one of the seminal work in setting up the term geographic information science is by Michael Frank Goodchild (Goodchild, M. F. (1992). Geographical information science. International journal of geographical information systems, 6(1), 31-45)\n",
    "\n",
    "TODO: geographic information science picture"
   ]
  },
  {
   "cell_type": "markdown",
   "id": "2b061698-0190-4d36-a5e1-a4e76aff7726",
   "metadata": {},
   "source": [
    "## The power of GIS\n",
    "\n",
    "We have to define two concepts\n",
    "\n",
    ">**Geospatial data** : Refers to the real-world geographic objects of interest, such as streets, buildings, lakes, and countries, and their respective locations. \n",
    "\n",
    ">**Attributes** : Each of the spatial objects also posses certain traits of interest, such as a name, length etc, which are jointly called **attributes**.\n",
    "\n",
    "GIS software keeps track of both the **spatial and attribute data and permits us to link the two types of data together to create information and facilitate analysis**.\n",
    "\n",
    "But the real power of GIS is in its ability to **support layering**. \n",
    "\n",
    "Let's look at a real example. Suppose we have three different maps\n",
    "\n",
    "![SNOW_LAYERS](images/SNOW_LAYERS1.PNG)\n",
    "\n",
    "What if we can **combine them together**\n",
    "\n",
    "![SNOW_LAYERS_Combined](images/SNOW_LAYERS1_Combined.PNG)\n",
    "\n",
    "Layering helps you to start **looking for spatial relations and spatial patterns**."
   ]
  },
  {
   "cell_type": "markdown",
   "id": "9d4a0c2c-65cf-49a7-8fb0-905d6ac98b00",
   "metadata": {},
   "source": [
    "Ok that's enough of definitions. Let's get our hands dirty!!"
   ]
  },
  {
   "cell_type": "markdown",
   "id": "308d6af2-66a0-4647-818a-fdce5e6c2a29",
   "metadata": {},
   "source": [
    "We will be using two flavors of GIS for this course\n",
    "\n",
    "1. QGIS (Open-source ofcourse!!)\n",
    "\n",
    "TODO: A picture of QGIS\n",
    "\n",
    "2. Python (Open-source with batteries included) (**is not mandatory!!!**)\n",
    "\n",
    "TODO: A picture of Python (GIS)\n",
    "\n",
    "**Note**: If you haven't programmed in Python before, don't worry. We will be using QGIS as the primary GIS software and there will be code sections in Python for those who are interested to explore Python a bit!.\n",
    "\n",
    "Now let's start setting up our QGIS environment"
   ]
  },
  {
   "cell_type": "markdown",
   "id": "c7e84a37-5795-4061-b7b2-7b0704e7fb5a",
   "metadata": {},
   "source": [
    "## Setting up QGIS"
   ]
  },
  {
   "cell_type": "markdown",
   "id": "0574dfec-0c69-4413-bca5-16ae372e47d8",
   "metadata": {},
   "source": [
    "1. Download QGIS (Version 3.24 Standalone)"
   ]
  },
  {
   "cell_type": "code",
   "execution_count": 12,
   "id": "476075a2-5bdc-4241-81a4-3b8298df4a7c",
   "metadata": {},
   "outputs": [
    {
     "data": {
      "text/html": [
       "<iframe src=\"https://qgis.org/en/site/forusers/download.html\" width=\"1200\" height=\"1000\"></iframe>\n"
      ],
      "text/plain": [
       "<IPython.core.display.HTML object>"
      ]
     },
     "metadata": {},
     "output_type": "display_data"
    }
   ],
   "source": [
    "%%html\n",
    "<iframe src=\"https://qgis.org/en/site/forusers/download.html\" width=\"1200\" height=\"1000\"></iframe>"
   ]
  },
  {
   "cell_type": "markdown",
   "id": "ff06ebe6-7da9-4bcc-ac17-60f9947b237f",
   "metadata": {},
   "source": [
    "2. Run your QGIS application by clicking on the QGIS Desktop Icon\n",
    "\n",
    "Your splash screen will look like this (this is for Windows, ther might be subtle changes in Mac or Linux)\n",
    "\n",
    "![QGIS_SPLASH_SCREEN](images/QGIS_SPLASHSCREEN.PNG)"
   ]
  },
  {
   "cell_type": "markdown",
   "id": "085c25af-ffbf-40f0-9cc7-28cf6f662744",
   "metadata": {},
   "source": [
    "![QGIS_SPLASH_SCREEN](images/QGIS_Components.PNG)"
   ]
  },
  {
   "cell_type": "markdown",
   "id": "6fce40fb-a40f-49a0-bee9-710958e4add3",
   "metadata": {},
   "source": [
    "## Setting up Python\n",
    "\n",
    "While you can run any Python code in this environment, for those who wants to get a bit more adventurous and want to install it locally on their machine, please follow the steps given below\n",
    "\n",
    "1. Download and install Anaconda"
   ]
  },
  {
   "cell_type": "code",
   "execution_count": 13,
   "id": "de22d847-b369-41db-b3b6-62a934ec82e4",
   "metadata": {},
   "outputs": [
    {
     "data": {
      "text/html": [
       "<iframe src=\"https://docs.anaconda.com/anaconda/install/\" width=\"1200\" height=\"1000\"></iframe>\n"
      ],
      "text/plain": [
       "<IPython.core.display.HTML object>"
      ]
     },
     "metadata": {},
     "output_type": "display_data"
    }
   ],
   "source": [
    "%%html\n",
    "<iframe src=\"https://docs.anaconda.com/anaconda/install/\" width=\"1200\" height=\"1000\"></iframe>"
   ]
  },
  {
   "cell_type": "markdown",
   "id": "27be2c08-5202-4471-87c2-0fe0e2a6bf8b",
   "metadata": {},
   "source": [
    "2. Open Anaconda Navigator"
   ]
  },
  {
   "cell_type": "code",
   "execution_count": 14,
   "id": "0d64a72c-97e7-481d-872f-5584d1432d68",
   "metadata": {},
   "outputs": [
    {
     "data": {
      "text/html": [
       "<iframe src=\"https://docs.anaconda.com/anaconda/install/verify-install/\" width=\"1200\" height=\"1000\"></iframe>\n"
      ],
      "text/plain": [
       "<IPython.core.display.HTML object>"
      ]
     },
     "metadata": {},
     "output_type": "display_data"
    }
   ],
   "source": [
    "%%html\n",
    "<iframe src=\"https://docs.anaconda.com/anaconda/install/verify-install/\" width=\"1200\" height=\"1000\"></iframe>"
   ]
  },
  {
   "cell_type": "markdown",
   "id": "f3722408-03ca-42cc-8c4e-2706182a9f3b",
   "metadata": {},
   "source": [
    "3. Launch Jupyter Notebook\n",
    "\n",
    "![Navigator_Jupyter](images/Navigator_Jupyter.PNG)"
   ]
  },
  {
   "cell_type": "markdown",
   "id": "490a6189-edbc-469b-be73-d2dba831bea5",
   "metadata": {},
   "source": [
    "3. And you can start coding!!!!!"
   ]
  },
  {
   "cell_type": "code",
   "execution_count": 15,
   "id": "5047b13a-5dd2-490a-a384-2263032ee362",
   "metadata": {},
   "outputs": [
    {
     "data": {
      "text/html": [
       "<iframe src=\"https://jupyter-notebook.readthedocs.io/en/stable/ui_components.html\" width=\"1200\" height=\"1000\"></iframe>\n"
      ],
      "text/plain": [
       "<IPython.core.display.HTML object>"
      ]
     },
     "metadata": {},
     "output_type": "display_data"
    }
   ],
   "source": [
    "%%html\n",
    "<iframe src=\"https://jupyter-notebook.readthedocs.io/en/stable/ui_components.html\" width=\"1200\" height=\"1000\"></iframe>"
   ]
  },
  {
   "cell_type": "markdown",
   "id": "80a389f9-f7c4-457c-ae0a-2bb5f80053bc",
   "metadata": {},
   "source": [
    "## Loading your first dataset in QGIS"
   ]
  },
  {
   "cell_type": "markdown",
   "id": "015e4930-9a5b-4c7d-9763-6b4482fde4e6",
   "metadata": {},
   "source": [
    "1. Download your dataset\n",
    "\n",
    "Download your data from \n",
    "\n",
    "https://cwru.box.com/s/wcezjkzyri77suujdby65fhcgx5qmvr3\n",
    "\n",
    "2. Unzip the file using Extract All (windows) or archive in Mac (not sure about this)\n",
    "\n",
    "![Unzip1](images/unzip1.PNG)\n",
    "\n",
    "![Unzip2](images/unzip2.PNG)\n",
    "\n",
    "![Unzip3](images/unzip3.PNG)\n",
    "\n",
    "These are our files. And we would want to load the cholera dataset to QGIS. \n",
    "\n",
    "So get into QGIS\n",
    "\n",
    "From the QGIS tool bar select \"Data Source Manager\"\n",
    "\n",
    "![vec1](images/vec1.PNG)\n",
    "\n",
    "Click on the button near Vector Dataset(s)\n",
    "\n",
    "![vec2](images/vec2.PNG)\n",
    "\n",
    "Navigate to the unzipped folder and select \"Cholera_Deaths.shp\"\n",
    "\n",
    "![vec3](images/vec3.PNG)\n",
    "\n",
    "Now click Add and you will see the points in the explorer window and the layer name in the layer window\n",
    "\n",
    "![vec4](images/vec4.PNG)\n",
    "\n",
    "\n",
    "Yay!!! You have successfully loaded a shapefile to QGIS\n",
    "\n",
    "You can play around with the map (which is currently blank)(zooming,panning etc).\n",
    "\n",
    "If you want to see what are all the **attributes** for this dataset you can right click on the layer name from the layer window and can select the \"Open Attribute Table\" option\n",
    "\n",
    "![vec5](images/vec5.PNG)\n",
    "\n",
    "And you can see that there are two attributes for each of the points (250 of them) (\"ID\" and \"Count\")\n",
    "\n",
    "![vec6](images/vec6.PNG)\n",
    "\n",
    "Now let's look at how to do this in Python (again you can skip this section)"
   ]
  },
  {
   "cell_type": "markdown",
   "id": "307de7f4-9e93-4bc0-99a3-e6ed9ae154be",
   "metadata": {},
   "source": [
    "## Loading your first dataset in Python using Geopandas (optional)"
   ]
  },
  {
   "cell_type": "code",
   "execution_count": 16,
   "id": "4c53b455-ecec-469b-8423-fbcabe98b73b",
   "metadata": {},
   "outputs": [],
   "source": [
    "#load the library\n",
    "import geopandas as gpd\n",
    "#read the file\n",
    "cholera_data = gpd.read_file(r'../sharedData/SnowGIS_SHP/SnowGIS_SHP/SnowGIS_SHP/Cholera_Deaths.shp')"
   ]
  },
  {
   "cell_type": "markdown",
   "id": "120c17ba-cef6-42eb-b777-37fb7add8cf3",
   "metadata": {},
   "source": [
    "That's it. You have loaded the file into Python. Now you can see the attributes as well as plot it (the plot might be very generic)"
   ]
  },
  {
   "cell_type": "code",
   "execution_count": 17,
   "id": "1359a714-42d1-41db-a2db-5a93c2ef2e97",
   "metadata": {},
   "outputs": [
    {
     "name": "stdout",
     "output_type": "stream",
     "text": [
      "     Id  Count                       geometry\n",
      "0     0      3  POINT (529308.741 181031.352)\n",
      "1     0      2  POINT (529312.164 181025.172)\n",
      "2     0      1  POINT (529314.382 181020.294)\n",
      "3     0      1  POINT (529317.380 181014.259)\n",
      "4     0      4  POINT (529320.675 181007.872)\n",
      "..   ..    ...                            ...\n",
      "245   0      3  POINT (529362.665 181156.058)\n",
      "246   0      2  POINT (529365.152 181176.129)\n",
      "247   0      1  POINT (529274.165 180907.313)\n",
      "248   0      1  POINT (529299.361 180873.185)\n",
      "249   0      1  POINT (529324.815 180857.949)\n",
      "\n",
      "[250 rows x 3 columns]\n"
     ]
    }
   ],
   "source": [
    "print (cholera_data)"
   ]
  },
  {
   "cell_type": "code",
   "execution_count": 18,
   "id": "ece93c22-029e-4339-91b7-9a50720494b4",
   "metadata": {},
   "outputs": [
    {
     "data": {
      "image/png": "[encoded data removed]",
      "text/plain": [
       "<Figure size 432x288 with 1 Axes>"
      ]
     },
     "metadata": {
      "needs_background": "light"
     },
     "output_type": "display_data"
    }
   ],
   "source": [
    "#plotting your data\n",
    "cholera_data.plot();"
   ]
  },
  {
   "cell_type": "markdown",
   "id": "4fb06bf7-4ca3-43e0-b366-3ec82c2a7602",
   "metadata": {},
   "source": [
    "## Summary"
   ]
  },
  {
   "cell_type": "markdown",
   "id": "e8aac88a-32f6-4a12-9f69-60cd7672648f",
   "metadata": {},
   "source": [
    "In this session we have looked into the variuos definitions of GIS as well as the different approaches for using a GIS. We have also looked into loading a shapefile to QGIS as well as Python. Shapefiles are one of the commonly used file types for storing and disseminating spatial data and we will have a detailed look at them as well as other commonly used spatial file types in the next section."
   ]
  }
 ],
 "metadata": {
  "kernelspec": {
   "display_name": "Python 3 (ipykernel)",
   "language": "python",
   "name": "python3"
  },
  "language_info": {
   "codemirror_mode": {
    "name": "ipython",
    "version": 3
   },
   "file_extension": ".py",
   "mimetype": "text/x-python",
   "name": "python",
   "nbconvert_exporter": "python",
   "pygments_lexer": "ipython3",
   "version": "3.9.7"
  }
 },
 "nbformat": 4,
 "nbformat_minor": 5
}
