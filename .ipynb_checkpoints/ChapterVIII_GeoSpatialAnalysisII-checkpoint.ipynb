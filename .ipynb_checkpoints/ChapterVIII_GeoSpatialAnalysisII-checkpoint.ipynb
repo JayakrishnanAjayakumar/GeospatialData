{
 "cells": [
  {
   "cell_type": "markdown",
   "id": "157ac61d-2745-4b42-bd19-686507381534",
   "metadata": {},
   "source": [
    "# Geospatial Analysis II (Raster Operations)\n",
    "\n",
    "TODO: A good figure"
   ]
  },
  {
   "cell_type": "markdown",
   "id": "9b8ef474-f7d7-416f-adc3-34b982a000ff",
   "metadata": {},
   "source": [
    "## What is a Raster?\n",
    "\n",
    "TODO: A good figure\n",
    "\n",
    "Any **pixel-based picture data (JPG, PNG, TIFF)** can be called a raster. Let's look at a representational diagram for a raster\n",
    "\n",
    "![raster1](images/raster1.PNG)\n",
    "\n",
    "Just by knowing the coordinates of top left corner, cell dimensions (Cx and Cy) and number of rows and columns, we can calculate the location (coordinates) of any cell. \n",
    "\n",
    "For a geographical raster the coordinates will be either in geographical or projected coordinates. An example of such a file type is GeoTIFF (TIFF with geographical coordinates). \n",
    "\n",
    "**Resolution of raster** is defined as the area that a single raster cell covers. When we say resolution is 1kmX1km it means each cell has width and height as 1km. \n",
    "\n",
    "TODO: A geoTIFF. \n",
    "\n",
    "We will be dealing with GeoTIFF thorugh out this chapter."
   ]
  },
  {
   "cell_type": "markdown",
   "id": "6eac39d1-489b-446c-9d72-2738d9606a11",
   "metadata": {},
   "source": [
    "## Why do we use rasters?\n",
    "\n",
    "We generally use rasters to map continuos data (for example population, weather, air quality etc). For example suppose we have airquality monitors that capture various air quality indicators such as the amount of PM2.5, CO, or other particulate matters. Normally a City/Corporation would install them in some key areas such as near factories, or heavy traffic zones etc. \n",
    "\n",
    "![raster2](images/raster2.PNG)\n",
    "\n",
    "Now what if you want to know the air quality for an area as shown in the diagram. \n",
    "\n",
    "![raster3](images/raster3.PNG)\n",
    "\n",
    "The vectors (the airquality monitor locations) might not be much helpful here. But what if we can generate a raster (surface from this airquality monitor readings)\n",
    "\n",
    "![raster4](images/raster4.PNG)\n",
    "\n",
    "Now we can see that our plot is in an area of high values. We can take the average value for the cells that interesects with the plot (.82).\n",
    "\n",
    "But how do we generate this raster?\n",
    "\n",
    "We use a technique called **spatial interpolation**, which is based on the property of spatial autocorrelation. We will cover spatial interpolation and spatial autocorrelation in the next chapter. \n",
    "\n",
    "Once we have such a surface with values ,we can find out values for any vector (points,lines or polygons) that falls with in the area covered by the raster. \n",
    "\n",
    "Next we will look some common raster operations"
   ]
  },
  {
   "cell_type": "markdown",
   "id": "072bed93-c748-434f-bb9f-962f8b269c78",
   "metadata": {},
   "source": [
    "## Raster Operations"
   ]
  },
  {
   "cell_type": "markdown",
   "id": "e0dafae1-a36f-4bd3-aaaf-af55f7f0139f",
   "metadata": {},
   "source": [
    "First lets load a raster dataset to QGIS. For this example we will use a SVI Raster. We have already seen SVI for the Ohio counties as well as Ohio Census Tracts.\n",
    "\n",
    "1. Download the dataset from  https://cwru.box.com/s/k98x22ksbsfa4vhndmui2f71xz6ho5s4 (unzip and there will be a tiff file). Use the tiff file svi_2018_tract_overall_wgs84.tiff\n",
    "\n",
    "2. Load the raster dataset to QGIS\n",
    "\n",
    "![raster5](images/raster5.PNG)\n",
    "\n",
    "You will see an image of US. The lowest value for a cell is 0 (low vulnerability) and the highest value is 1 (High Vulnerability)\n",
    "\n",
    "3. Let's make this map more appealing by changing symbology\n",
    "\n",
    "Go to Properties and select Symbology. Change Render type as Singleband Psuedocolor. Use RdYlGn color ramp and invert it. The mode can be continuos (you can play around with it)\n",
    "\n",
    "![raster6](images/raster6.PNG)\n",
    "\n",
    "Click on apply and you will have a new raster image with green shades indicating areas with low vulnerabilty and red shades indicating areas with high vulnerability\n",
    "\n",
    "![raster7](images/raster7.PNG)\n",
    "\n",
    "Now what if I want to extract out the cells that fall within the state of Ohio"
   ]
  },
  {
   "cell_type": "markdown",
   "id": "70599ca7-d260-438c-ab2b-2e5485e9e954",
   "metadata": {},
   "source": [
    "### Clipping\n",
    "\n",
    "A raster dataset can also be clipped similar to a vector dataset.  The input raster is overlaid by a vector polygon clip layer. The raster clip process results in a single raster that is identical to the input raster but shares the extent of the polygon clip layer. \n",
    "\n",
    "Let's try an example. We will clip the SVI raster using Ohio boundaries (Ohio_COUNTY_SVI)\n",
    "\n",
    "1. Load the raster and vector datasets (svi_2018_tract_overall_wgs84.tiff,Ohio_COUNTY_SVI) into QGIS\n",
    "\n",
    "![raster8](images/raster8.PNG)\n",
    "\n",
    "2. Select Clip Raster by Mask Layer from Raster Extraction\n",
    "\n",
    "![raster9](images/raster9.PNG)\n",
    "\n",
    "3. Select the input layer as the raster and mask layer as Ohio_COUNTY_SVI\n",
    "\n",
    "![raster10](images/raster10.PNG)\n",
    "\n",
    "4. Once the run is complete we can see the clipped raster as a new layer\n",
    "\n",
    "![raster11](images/raster11.PNG)\n",
    "\n",
    "5. You can change the symbology for the new raster, change its transparency and overlay it on top of a reference map for better exploration.\n",
    "\n",
    "![raster12](images/raster12.PNG)\n",
    "\n",
    "Now what if we want to get some statistics about the vector layer we are interested about"
   ]
  },
  {
   "cell_type": "markdown",
   "id": "ac907116-33cd-4159-8900-ca9f062028f7",
   "metadata": {},
   "source": [
    "### Zonal Statistics\n",
    "\n",
    "Suppose you want to find out the average SVI value for some selected areas in Cuyahoga county. How will you do that? Let's try an example\n",
    "\n",
    "1. Download the selected area polygons from https://cwru.box.com/s/bzr5o793sk8vedbxqc00yiyfk92ayb48\n",
    "\n",
    "2. Load the Ohio raster that we just clipped and the area polygons\n",
    "\n",
    "![raster13](images/raster13.PNG)\n",
    "\n",
    "3. Click on toolbox\n",
    "\n",
    "![raster14](images/raster14.PNG)\n",
    "\n",
    "4. Now from Raster Analysis select Zonal Statistics\n",
    "\n",
    "![raster15](images/raster15.PNG)\n",
    "\n",
    "5. Select input layer as the polygons and raster layer as the clipped raster. Select Count Sum Mean Median Minimum Maximum for statistics to calculate\n",
    "\n",
    "![raster16](images/raster16.PNG)\n",
    "\n",
    "6. A new polygon file with the required stats will be created\n",
    "\n",
    "![raster17](images/raster17.PNG)"
   ]
  },
  {
   "cell_type": "markdown",
   "id": "b96fecdf-b258-4d31-8b49-48a9b6dee9c9",
   "metadata": {},
   "source": [
    "### Mathematical Raster Overlay\n",
    "\n",
    "The mathematical raster overlay is the most common overlay method. The numbers within the aligned cells of the input grids can undergo any user-specified mathematical transformation.\n",
    "\n",
    "For this example we are going to use PM2.5 data for Ohio for the years 1998 and 2019 and see the differences\n",
    "\n",
    "1. Download the 1998 dataset from https://cwru.box.com/s/4tqti3q7rplsa3mzqwym2yeckbe0mk5l and 2019 dataset from https://cwru.box.com/s/f8xkaqrngkd5ok7ll7rrj2bevmh7wom5\n",
    "\n",
    "2. Load both datasets to QGIS\n",
    "\n",
    "3. Just for better exploration you can use symbology and provide a color ramp\n",
    "\n",
    "![raster18](images/raster18.PNG)\n",
    "\n",
    "Form the raster maps it can be gleaned that while in 1998 the PM2.5 concentration was higher in south western region of Ohio, it has shifted more towards the North-West region by 2019\n",
    "\n",
    "4. Now can we find out where has been an increase/decrease in Pm2.5 concentration. We can do this by substracting the 1998 from the 2019 raster.\n",
    "\n",
    "5. Click on Raster and select Raster Calculator. \n",
    "\n",
    "![raster19](images/raster19.PNG)\n",
    "\n",
    "6. Now first click on the ohio_2019_pm2.5 from the raster band, then click on subtract operator and then click on ohio_1998_pm2.5 raster. Select output layer as any location on your computer and provide a filename. \n",
    "\n",
    "![raster20](images/raster20.PNG)\n",
    "\n",
    "7. Click ok and you will have a new layer with the value differences between the two layers. A first glance on the max and min value indicates that the PM2.5 value has lessened over the years (the maximum reduction being 15.4 and minimum being 2.9). Now we can use the symbology and the green to red color ramp to show areas that have the maximum reduction (which is great) and areas having minimum reduction. \n",
    "\n",
    "![raster21](images/raster21.PNG)"
   ]
  },
  {
   "cell_type": "markdown",
   "id": "29bbd300-c8b2-4cf0-896d-82e1ad67e144",
   "metadata": {},
   "source": [
    "### Global Raster Statistics\n",
    "\n",
    "We can also calculate statistics for the entire raster data. Lets use the Ohio ohio_1998_pm2.5 and ohio_2019_pm2.5 raster dataset for this example\n",
    "\n",
    "1. Select Raster Layer Statistics from the tool box\n",
    "\n",
    "![raster22](images/raster22.PNG)\n",
    "\n",
    "2. Select ohio_1998_pm2.5 and click Run and do the same for ohio_2019_pm2.5\n",
    "\n",
    "3. A new HTML file will be created with the statistics which you can open from the Result Viewer\n",
    "\n",
    "![raster23](images/raster23.PNG)\n",
    "\n",
    "4. By checking both the results you can see that the mean value has almost halved between 1998 and 2019 (Pm2.5 decreased)."
   ]
  },
  {
   "cell_type": "markdown",
   "id": "664d9470-cbab-4a95-8290-ed332836549f",
   "metadata": {},
   "source": [
    "We will look at surface analysis methods for raster in the next chapter (Advanced Analysis)\n",
    "\n",
    "There is also a major area of raster analysis that we have omitted here called Terrain Mapping which is a key area of analysis for Geology, Hydrology. Raster analysis skills are key while using remotely sensed data."
   ]
  },
  {
   "cell_type": "code",
   "execution_count": null,
   "id": "5e195236-308d-48e8-b776-72fc5363b6be",
   "metadata": {},
   "outputs": [],
   "source": [
    " "
   ]
  }
 ],
 "metadata": {
  "kernelspec": {
   "display_name": "Python 3 (ipykernel)",
   "language": "python",
   "name": "python3"
  },
  "language_info": {
   "codemirror_mode": {
    "name": "ipython",
    "version": 3
   },
   "file_extension": ".py",
   "mimetype": "text/x-python",
   "name": "python",
   "nbconvert_exporter": "python",
   "pygments_lexer": "ipython3",
   "version": "3.9.7"
  }
 },
 "nbformat": 4,
 "nbformat_minor": 5
}
