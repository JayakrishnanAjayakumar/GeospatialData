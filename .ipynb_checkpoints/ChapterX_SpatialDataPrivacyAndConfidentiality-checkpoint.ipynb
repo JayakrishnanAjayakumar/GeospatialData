{
 "cells": [
  {
   "cell_type": "markdown",
   "id": "0ea38e10-441d-4002-9b9b-e7bb39ce4601",
   "metadata": {},
   "source": [
    "# Spatial Data Privacy and Confidentiality\n",
    "\n",
    "TODO: A thought provoking picture of spatial data privacy violation"
   ]
  },
  {
   "cell_type": "markdown",
   "id": "fb30e98a-167a-49e9-bc6a-17cb6c490668",
   "metadata": {},
   "source": [
    "**People lives are closely tied to their Geography**. We can say that **every individual has a spatial context**\n",
    "\n",
    "TODO: Image\n",
    "\n",
    "**Knowing where someone lives, works, or travels can provide great insights into where they might get heathcare from or where they might contract disease**.\n",
    "\n",
    "TODO: Image\n",
    "\n",
    "Knowing **where** things happen can help us understand **why** it happened.\n",
    "\n",
    "TODO: Image\n",
    "\n",
    "So spatial data opens a **rich array of analytic possibilities**. \n",
    "\n",
    "TODO: Image\n",
    "\n",
    "**Researchers can learn about spatial organization of populations and their characteristics**. \n",
    "\n",
    "TODO: Image\n",
    "\n",
    "By **tying social data (defined by age, race, gender, education, position in social networks) to spatial data (spatial join!!!!!!)** we can not only learn about populations, but also learn about individuals and families. \n",
    "\n",
    "TODO: Image\n",
    "\n",
    "All these methodological developements are made possible by **advances in spatial sciences as well as advances in data collection strategies in social sciences**. Spatially explicit data sets that contain information on the attitudes and behaviors of individuals and households are now being created that permit researchers to address important scientific questions.\n",
    "\n",
    "TODO: Image (methodological developments in spatial sciences and social sciences)\n",
    "\n",
    "But as two sides of the same coin, collection, analysis, publication, distribution, and archiving of spatial data open a can of worms regarding **Privacy and Confidentiality**. But what is Privacy and what is Confidentiality. Let's see the definitions"
   ]
  },
  {
   "cell_type": "markdown",
   "id": "f15f5945-af2c-4023-9ecc-fcaf5fb4a149",
   "metadata": {},
   "source": [
    "## What is Privacy?\n",
    "\n",
    "As defined by Westin (1970)\n",
    "\n",
    ">Privacy is the claim of **individuals, groups, or institutions to determine for themselves when, how, and to what extent information about them is communicated to others**.\n",
    "\n",
    "TODO: A thought provoking picture for privacy\n",
    "\n",
    "Privacy issues are inherently\n",
    "\n",
    "1. Personal\n",
    "\n",
    "2. Including rights\n",
    "\n",
    "3. Ownership\n",
    "\n",
    "4. Copyright\n",
    "\n",
    "5. Choice\n",
    "\n",
    "6. Consent\n",
    "\n",
    "7. Stalking\n",
    "\n",
    "8. Transparency\n",
    "\n",
    "9. Disclosure\n",
    "\n",
    "10. Crime\n",
    "\n",
    "11. Access to Proprietary information\n",
    "\n",
    "But unlike these issues, the privacy issues due to location is severe. Someone's identity may be inferred from **location**, a type of personally-identifiable information. "
   ]
  },
  {
   "cell_type": "markdown",
   "id": "6b5d3ce7-59e4-4c2c-b59a-242877eb12c2",
   "metadata": {},
   "source": [
    "## What is Confidentiality?\n",
    "\n",
    "TODO: A thought provoking picture for confidentiality\n",
    "\n",
    ">Confidentiality is a **set of rules that limits access or places restrictions on the use of certain types of information**. It is usually executed through confidentiality agreements and policies.\n",
    "\n",
    "Examples of confidential information are:\n",
    "\n",
    "1. Medical information.\n",
    "\n",
    "2. Names, dates of birth, addresses, contact details (of staff, clients, patients, pupils, etcetera).\n",
    "\n",
    "3. Personal bank details and credit card information.\n",
    "\n",
    "4. Images of staff, pupils or clients that confirm their identity and can be linked to additional personal information.\n",
    "\n",
    "5. National Insurance numbers.\n",
    "\n",
    "6. Payroll numbers.\n",
    "\n",
    "7. Exam results.\n",
    "\n",
    "8. Business and marketing plans.\n",
    "\n",
    "9. Information received from third parties.\n",
    "\n",
    "10. Company initiatives.\n",
    "\n",
    "11. Customers’ information and lists.\n",
    "\n",
    "12. Company financial accounts information.\n",
    "\n",
    "13. Information relating to intellectual property, invention or patent.\n",
    "\n",
    "14. Research data.\n",
    "\n",
    "15. Passwords and related IT information."
   ]
  },
  {
   "cell_type": "markdown",
   "id": "d3827232-5208-4a51-8fda-59e8ce50300d",
   "metadata": {},
   "source": [
    "So in short we can say, **confidentiality concerns protecting the identity of individuals**, while **privacy concerns what people are willing to share or reveal about\n",
    "themselves**.\n",
    "\n",
    "So **Privacy relates to People while Confidentiality relates to data**.\n",
    "\n",
    "TODO: Cool Image for Privacy and Confidentiality\n",
    "\n",
    "But then what is so **\"Special about Spatial Data\"** interms of privacy and confidentiality.\n",
    "\n",
    "**Spatial data has unique characteristics** that can have an impact on privacy and confidentiality. **Displaying or sharing data that includes a geographic coordinate can make it possible to identify individuals**. \n",
    "\n",
    "TODO: Cool Image of unique characteristics identifying locations\n",
    "\n",
    "Let's see some more definitions regarding spatial data privacy and confidentiality"
   ]
  },
  {
   "cell_type": "markdown",
   "id": "550efb54-7b7a-4dcf-8ba8-8de1ff188ee5",
   "metadata": {},
   "source": [
    "## What is Location Privacy?\n",
    "\n",
    ">Location Privacy concerns the claim of individuals to determine **when, how, and to what extent location information about them is communicated to others**. It refers to the **ability of an individual to move in public spaces with a reasonable expectation that their location will not be recorded without permission for later use by a third party**.\n",
    "\n",
    "Another definition would be\n",
    "\n",
    "> “Location privacy is the ability to **prevent other parties from learning one’s current or past location.**” The definition describes the **time-space tracking of individuals, and it can be associated with static locations such as home addresses, and spatial trajectories such as individuals’ mobility patterns**.\n",
    "\n",
    "TODO: Again a thought provoking image. \n",
    "\n",
    "Privacy recognizes preferences of revealing location data in different forms\n",
    "\n",
    "1. When – A subject may be more concerned about current or future location than past locations.\n",
    "\n",
    "2. How – A user may be uncomfortable with automated requests for location, but may be receptive to manual requests.\n",
    "\n",
    "3. Extent – A user may prefer that location be reported as a “region” rather than a specific point."
   ]
  },
  {
   "cell_type": "markdown",
   "id": "b06d0e1d-4ba2-4ff4-996a-39a118e4b6b9",
   "metadata": {},
   "source": [
    "## What is Spatial Confidentiality?\n",
    "\n",
    ">**Address information is typically considered confidential and is therefore not released or shared with others**. Publishing maps with the **locations of individuals, however, may also breach confidentiality since addresses and associated identities can be discovered through reverse geocoding**.\n",
    "\n",
    "TODO: A though provoking image"
   ]
  },
  {
   "cell_type": "markdown",
   "id": "98b3e9cc-2984-4d08-b03f-1d66319cc859",
   "metadata": {},
   "source": [
    "So how spatial data privacy and confidentiality breaches happen in real world. Let's look into that"
   ]
  },
  {
   "cell_type": "markdown",
   "id": "a2ec08fd-68f3-4ab9-b0f3-572e114019b0",
   "metadata": {},
   "source": [
    "## Reasons for Spatial Data Privacy and Confidentiality issues\n",
    "\n",
    "Privacy and confidentiality issues can occur at any stages of research\n",
    "\n",
    "1. Data collection\n",
    "\n",
    "2. Data analysis\n",
    "\n",
    "3. Publication (those maps!!!!)\n",
    "\n",
    "4. Distribution (maps again!!)\n",
    " \n",
    " and \n",
    " \n",
    "5. Archiving\n",
    "\n",
    "of spatially explicit, micro-, social science data\n",
    "\n",
    "The combination of spatially explicit displays of data and the sharing of data across research teams creates privacy and confidentiality issues that sometimes doesn't have a solution.\n",
    "\n",
    "There are mainly two ways in which confidentiality can be breached with spatial data\n"
   ]
  },
  {
   "cell_type": "markdown",
   "id": "d6fb100b-21f4-4342-b0e3-08060949ec60",
   "metadata": {},
   "source": [
    "### Overt Disclosure\n",
    "\n",
    ">Overt disclosure is an **actual release of data that breaches confidentiality commitments**. For example you loose your office laptop with Patient data.\n",
    "\n",
    "TODO: An image\n",
    "\n",
    "### Deductive Disclosure\n",
    "\n",
    ">Deductive disclosure is when **multiple data elements are combined together in a way that leads to breaches in confidentiality commitments**.\n",
    "\n",
    "This is very common and we might be doing it unknowingly. When you are combining multiple layers of spatial contextual data (thanks to GIS!!!), such breaches are bound to happen. \n",
    "\n",
    "TODO: An image\n",
    "\n",
    "Spatial data can **reduce the number of data elements needed to make deductive disclosure possible**. Releasing highly **precise spatial data can change an act of deductive disclosure to an act of overt disclosure**.\n",
    "\n",
    "Now let's look at some real-world scenarios of privacy and confidentiality breaches"
   ]
  },
  {
   "cell_type": "markdown",
   "id": "6a06a66e-33ff-489c-b19a-c738996b5799",
   "metadata": {},
   "source": [
    "## Real-World Scenarios \n",
    "\n",
    "1. A laptop got stolen which had records for an HIV survey. And it contain details such as\n",
    "\n",
    "    45-Year Old women, Has four children, Is of a specific ethnicity, place of employment (Address), and HIV status\n",
    "    \n",
    "    This information is enough to identify the individual and then know the person's HIV status.\n",
    "    \n",
    "2. The same laptop with the survey details, now with an additional column of home location (longitude,latitude).\n",
    "    This is even more of a severe confidentaility breach and the person can be relatively easily identified through commonly used GIS operations such as reverse geocoding.\n",
    "    \n",
    "3. Now let's look into how mapping contributes to confidentiality breaches. \n",
    "\n",
    "![priv1](images/priv1.PNG)\n",
    "\n",
    "   The single point location that has been marked out can be easily identified by adding a reference layer such as Google Street images. Such maps where once very common in publications.\n",
    "   \n",
    "4. You are creating a map of Covid cases aggregated by Zip codes for New York. Your aggregated map shows that there are 20 cases for the zip code 12164. But Zip code 12164 has only a population of 365. \n",
    "\n",
    "5. You have to consider the **heterogenity of underlying Geography**. While saying there is a single case in a crowded neighborhood in an urban area is less of a privacy issue than saying there is a single case in a correspondingly large rural area. As rural areas tend to be less populated it will be easy to zero-in at a particular house without much of an effort.\n",
    "\n",
    "![priv2](images/priv2.PNG)\n",
    "\n",
    "6. What do you think about the John Snow Map which we have already seen\n",
    "\n",
    "![priv3](images/priv3.PNG)\n",
    "\n",
    "7. What about this map that shows the location of deaths after Hurricane Katrina.\n",
    "\n",
    "![priv4](images/priv4.PNG)\n",
    "\n",
    "So now that we have seen various scenarios where spatial privacy and confidentiality was breached, lets look into potential remedies and how to weigh them."
   ]
  },
  {
   "cell_type": "markdown",
   "id": "8030872a-31e5-4bb5-8430-768dfe38a67a",
   "metadata": {},
   "source": [
    "## Spatial Privacy and Confidentiality Preserving Methods\n",
    "\n",
    "Any strategy/methodology for protecting spatial privacy and confidentiality should be weighed in based on\n",
    "\n",
    "**Accuracy vs Disclosure Risk**\n",
    "\n",
    "This relationship is almost always inverse\n",
    "\n",
    "![priv5](images/priv5.PNG)\n",
    "\n",
    "So the goal of any privacy preserving methodology is to strike a right balance between Accuracy and Privacy. \n",
    "\n",
    "Now lets look at some methods"
   ]
  },
  {
   "cell_type": "markdown",
   "id": "b0f77d65-0f45-4707-8946-033c6262249e",
   "metadata": {},
   "source": [
    "### Random Pertubration\n",
    "\n",
    "Shift the locations randomly (same as introducing noise). \n",
    "\n",
    "![priv6](images/priv6.PNG)\n",
    "\n",
    "Again depending on the amount of pertubration there could be considerable spatial errors which can degrade accuracy as well as have an impact on spatial analysis."
   ]
  },
  {
   "cell_type": "markdown",
   "id": "f41df833-4bd1-41ed-8244-6014dff69e9f",
   "metadata": {},
   "source": [
    "### Transformation\n",
    "\n",
    "Change scale, rotate, shift a set distance, or some combination of all\n",
    "\n",
    "![priv7](images/priv7.PNG)\n",
    "\n",
    "Could be easy to undo, if someone is able to atleast find the location of a single correct location. "
   ]
  },
  {
   "cell_type": "markdown",
   "id": "66c3f9a5-be9a-4315-b048-a4831781023a",
   "metadata": {},
   "source": [
    "### Aggregation\n",
    "\n",
    "The most commonly used strategy by many organization including hospitals (you might have done it while aggregating point datasets to existing polygons and generating choropleths). \n",
    "\n",
    "![priv8](images/priv8.PNG)\n",
    "\n",
    "Even though this approach best among privacy preserving approaches, the accuracy loss is high. The socio-spatial linkage capabilities are reduced manyfold and there is a great loss of contextual data. But this can be a good strategy for data sharing. "
   ]
  },
  {
   "cell_type": "markdown",
   "id": "daf19f81-24c5-44b6-97c9-c6cceded0fe8",
   "metadata": {},
   "source": [
    "### Despatialize \n",
    "\n",
    "Remove geographical coordinate system information from the data and assign Euclidean space coordinates. The relative position among the coordinates will be preserved, but the data can't be linked to any other social-spatial data sources. "
   ]
  },
  {
   "cell_type": "markdown",
   "id": "f25cbc2c-ac4c-4884-99f6-02c6623bef2c",
   "metadata": {},
   "source": [
    "### Data Enclaves\n",
    "\n",
    "Data enclaves are secured research locations where the data can be securely stored and only users with special permissions can access the data. At CWRU we have the SRE environment which provides secure access to confidential data sources such as cancer data. But data enclaves are generally very costly to maintain and can also act as a potential hindrance to smooth operational research. "
   ]
  },
  {
   "cell_type": "markdown",
   "id": "a626f79c-e212-4b9e-9f37-c2491fb20bd2",
   "metadata": {},
   "source": [
    "### Policies for Spatial Privacy and Confidentiality Protection\n",
    "\n",
    "HIPPA (Health Insurance Portability and Accountability Act)  - Individual level data may only be released if it is \"de-identified\". \n",
    "\n",
    "Under the safe harbor method, a covered entity must **remove any of 18 individual identifiers from the information** , and the covered entity must not have \"actual knowledge that the remaining information could be used alone or in a combination with other data to identify an individual who is subject of the information\"\n",
    "\n",
    "And one of the 18 individual identifiers is \"all geographic subdivisions smaller than a state, including county, cirt, street address, precinct, zip code and their eqivalent geocodes\"\n",
    "\n",
    "In the methods for de-identifcation there is a clause to include zip codes. But it is mentioned that\n",
    "\n",
    "Covered entities may include the first three digits of the ZIP code if, according to the current publicly available data from the Bureau of the Census: (1) The geographic unit formed by combining all ZIP codes with the same three initial digits contains more than **20,000 people**; or (2) **the initial three digits of a ZIP code for all such geographic units containing 20,000 or fewer people is changed to 000**. \n",
    "\n",
    "Eventhough IRB's are supposed to follow HIPPA Guidelines, there is still a lot of confusion when it comes to sharing data with Zip codes. \n",
    "\n",
    "If you are working with healt data, it will be good to have a look at the methods suggested for de-identifcation. \n",
    "\n",
    "https://www.hhs.gov/hipaa/for-professionals/privacy/special-topics/de-identification/index.html#zip"
   ]
  },
  {
   "cell_type": "markdown",
   "id": "a47abdce-6725-45ef-8c6f-f9e9fd4d2880",
   "metadata": {},
   "source": [
    "Finally some guidelines put forward by National Research Council (NRC)\n",
    "\n",
    "1. Technical and Institutional Research - should sponsor research that looks into developing new methodologies\n",
    "\n",
    "2. Education and Training - Education of researchers in Ethical use of spatial data\n",
    "\n",
    "3. Training in Ethical Issues\n",
    "\n",
    "4. Outreach by professional societies and other organizations.\n",
    "\n",
    "5. Research Design - Primary explicit spatial data collection should involve obligations to protect confidentiality of participants\n",
    "\n",
    "6. Institutional Review Boards (Should include spatial experts)\n",
    "\n",
    "7. Data Enclaves\n",
    "\n",
    "8. Licensing"
   ]
  }
 ],
 "metadata": {
  "kernelspec": {
   "display_name": "Python 3 (ipykernel)",
   "language": "python",
   "name": "python3"
  },
  "language_info": {
   "codemirror_mode": {
    "name": "ipython",
    "version": 3
   },
   "file_extension": ".py",
   "mimetype": "text/x-python",
   "name": "python",
   "nbconvert_exporter": "python",
   "pygments_lexer": "ipython3",
   "version": "3.9.7"
  }
 },
 "nbformat": 4,
 "nbformat_minor": 5
}
