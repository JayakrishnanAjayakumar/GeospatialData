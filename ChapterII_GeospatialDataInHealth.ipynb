{
 "cells": [
  {
   "cell_type": "markdown",
   "id": "5e0060aa-2f3d-46a2-bae2-079a2d7a09b5",
   "metadata": {},
   "source": [
    "# Geospatial Data in Health"
   ]
  },
  {
   "cell_type": "markdown",
   "id": "709f269c-00f6-4f8d-b691-6f9ffe8a02ea",
   "metadata": {},
   "source": [
    "No Medical Geography, Spatial Epidemiology, or Health Geography discussions can start without mentioning about **John Snow's work on Cholera Investigation**."
   ]
  },
  {
   "cell_type": "markdown",
   "id": "c12bc9a8-e1bb-464c-a3ef-56d77cd9c095",
   "metadata": {},
   "source": [
    "## John Snow's Cholera Investigation"
   ]
  },
  {
   "cell_type": "markdown",
   "id": "f64e5f7e-ef2d-4f15-959d-73b02d665dd4",
   "metadata": {},
   "source": [
    "### Who was John Snow\n",
    "\n",
    "![GIS](images/John_Snow.jpg)\n",
    "\n",
    "John Snow was born in York on 15 March 1813. During the 1831 outbreak of cholera in the North East, he attended to sufferers in the Killingworth Colliery.\n",
    "The observation he made about the disease at this time formed the basis for his later work. Between 1833 and 1836, Snow was an assistant in practice in County Durham and North Yorkshire.In 1836 he moved to London to study at the Hunterian School of Medicine. He began hospital practice in October 1837 at the Westminster Hospital and became a member of the Royal College of Surgeons of England in 1838. He graduated from the University of London in 1844 with a degree in medicine and in 1850 was admitted as a member of the Royal College of Physicians.\n",
    "\n",
    "### The Cholera Outbreak in Soho, London\n",
    "\n",
    "A major outbreak of cholera reached the district of Soho, London, in August 1854. \n",
    "\n",
    "![Soho](images/soho.png)\n",
    "\n",
    "\n",
    "\n",
    "This was the **third cholera outbreak in London, having previously occurred in 1832 and 1849**. In the mid-19th century, Soho had a serious problem with **filth due to the large influx of people and a lack of proper sanitary services**: the London sewer system had not reached Soho at this point and **drainage was poor throughout London**. It was common at the time to have a cesspit under most homes. The health officials believed that the disease was transmitted and spread by a **‘bad air’ or ‘bad smells’ from rotting organic matter**.\n",
    "\n",
    "![soho_cholera](images/soho_cholera.jpg)\n",
    "\n",
    "### What did John Snow do\n",
    "\n",
    "By talking to **local residents** (this really key here, local knowledge is very important when you are addressing many health challenges), snow started mapping the Cholera deaths, along with the pump locations. So you could think that snow had three layres of data\n",
    "\n",
    "1. A reference map of Soho\n",
    "\n",
    "2. The location of water pumps in Soho\n",
    "\n",
    "3. Location of houses with Cholera deaths\n",
    "\n",
    "![SNOW_LAYERS1](images/SNOW_LAYERS1.png)\n",
    "\n",
    "And Snow combined these layers together and boom!!!!!!!!!!\n",
    "\n",
    "![SNOW_LAYERS1_Combined_1](images/SNOW_LAYERS1_Combined_1.png)\n",
    "\n",
    "His studies of the pattern of the disease were convincing enough to persuade the local council to **disable the well pump by removing its handle**. This action has been credited with **contributing significantly to the containment of the disease in the area**. It was later discovered that the water for the pump was polluted by sewage contaminated with cholera from a nearby cesspit.\n",
    "\n",
    "Through this mapping exercise John Snow was able to prove that the disease is in fact transmitted through contaminated water (associated to a specific pump), as opposed to the conventional thinking of the day, which stated that transmission occurred through the air. \n",
    "\n",
    "\n",
    "This work of John Snow was important in many ways\n",
    "\n",
    "1. **The first epidemiological analysis of disease** – trying to understand the spread of cases by factors in the environment.\n",
    "\n",
    "2. **The first geographical analysis of disease data** – plotting points on a map and looking for relationships\n",
    "\n",
    "For this phenomenal work John Snow is some times referred to as **\"hero of Cholera\"** and **\"Father of Field Epidemiology\"**\n",
    "\n",
    "Along with solving the Cholera issue, John snow sowed the seeds of something new in the field of Epidemiology. We will look into that next."
   ]
  },
  {
   "cell_type": "markdown",
   "id": "a03ce10c-8278-4982-8960-54dfaab4ead2",
   "metadata": {},
   "source": [
    "## Disease Mapping"
   ]
  },
  {
   "cell_type": "markdown",
   "id": "45ca63e8-e70f-40dc-a5bd-3870a10c8b4c",
   "metadata": {},
   "source": [
    "I think its fair to say that we are living in a time where disease maps are a commonplace (thanks to the Covid-19 pandemic). Just to get an idea have a look at the three maps shown below. These maps are called Choropleth maps (we will deal with them in Chapter 6).\n",
    "\n",
    "![dmaps1](images/dmaps1.png)\n",
    "\n",
    "You can definitely see that there seems to be a pattern of High Covid Cases for Franklin County (where Columbus is at), Cuyahoga County (where Cleveland is at), and Lucas County. One interesting thing to note is that Marion County was having a large number of positive cases during April 2020. What could be the reason? This is the power of mapping. You can start to identify patterns and start exploring them further. The sudden rise in Marion was due to a Covid-19 outbreak in one of the prisons in Marion where 1,950 inmates where tested positive for Covid-19."
   ]
  },
  {
   "cell_type": "code",
   "execution_count": null,
   "id": "9993745f-3de2-4dcb-8301-b3d849f2361d",
   "metadata": {},
   "outputs": [],
   "source": [
    "%%html\n",
    "<iframe src=\"https://www.npr.org/sections/coronavirus-live-updates/2020/04/20/838943211/73-of-inmates-at-an-ohio-prison-test-positive-for-coronavirus\" width=\"1200\" height=\"1000\"></iframe>"
   ]
  },
  {
   "cell_type": "markdown",
   "id": "c6293387-91f6-4ebe-a631-920d473edf50",
   "metadata": {},
   "source": [
    "Now to the question about why Cuyahoga County, and Franklin County always shows up as red. A possible explanation could be population (more people more disease). Again we can use mapping to see the spatial dsitribution of population among Counties.\n",
    "\n",
    "![dmaps2](images/dmaps2.png)\n",
    "\n",
    "Now that we have population we can recreate our map based on prevelance rate (cases/population), which shows more interesting patterns (the influence of Population is now reduced).\n",
    "\n",
    "![dmaps3](images/dmaps3.png)"
   ]
  },
  {
   "cell_type": "markdown",
   "id": "a5620800-a8d8-4415-bc0a-5ee3d16fac79",
   "metadata": {},
   "source": [
    "Now that you have seen an example of disease mapping in action (already you have seen disease mapping in John Snow's example), let's see why Disease mapping is useful"
   ]
  },
  {
   "cell_type": "markdown",
   "id": "cffd37d6-6050-49b3-b283-bfcab72418be",
   "metadata": {},
   "source": [
    "## Why disease mapping\n",
    "\n",
    "### 1. Maps are useful to learn about the **'abundance of a disease' (the infected fraction from the total population)**. In epedemiological terms its called **endemicity**. Helps in comparing places based on the underlying variable of interest.\n",
    "\n",
    "For example look at this article"
   ]
  },
  {
   "cell_type": "code",
   "execution_count": null,
   "id": "1a32968b-1509-48af-9670-b216c64d460e",
   "metadata": {},
   "outputs": [],
   "source": [
    "%%html\n",
    "<iframe src=\"https://people.com/health/mask-mandates-bar-closures-reduce-us-coronavirus-cases/\" width=\"1200\" height=\"1000\"></iframe>"
   ]
  },
  {
   "cell_type": "markdown",
   "id": "b988cb90-0d6f-4cdb-b197-1c971daa19e4",
   "metadata": {},
   "source": [
    "### 2. Immunization \n",
    "\n",
    "Public health officials might want to answer questions like \n",
    "\n",
    "What are vaccination rates in this area?\n",
    "Where should we concentrate our future efforts (i.e., are there pockets of need)?\n",
    "Where are the vaccines available?\n",
    "How can we best communicate information with partners and the public?\n",
    "Is our vaccination delivery network sufficient?\n",
    "Is there any clustering of adverse events?\n",
    "\n",
    "An interactive map "
   ]
  },
  {
   "cell_type": "code",
   "execution_count": null,
   "id": "3d8564d5-9e32-4814-b629-cff41e653bb6",
   "metadata": {},
   "outputs": [],
   "source": [
    "%%html\n",
    "<iframe src=\"https://covid-tracker.mckinsey.com/vaccination-map?geo=US\" width=\"1200\" height=\"1000\"></iframe>"
   ]
  },
  {
   "cell_type": "markdown",
   "id": "196fc53c-5896-4613-be4a-9b9dd8395416",
   "metadata": {},
   "source": [
    "### 3. Disease Surveillance, Outbreak Investigation, and Syndromic Surveillance\n",
    "\n",
    "Most electronic disease surveillance systems now include a mapping module so that analysts and public health leaders can visualize disease outbreaks on the map.\n",
    "\n",
    "High-transmission areas (e.g., gathering places) or areas with environmental conditions ideal for disease vectors (e.g., standing water) are more easily identified when field staff have maps, imagery, and descriptive metadata at their fingertips.\n",
    "\n",
    "Syndromic Survelliance tools almost always use disease maps\n",
    "\n",
    "Spatial visualization helps in identifying disease sources and the best implementation of countermeasure and response strategies.\n",
    "\n",
    "Let's see an interactive example"
   ]
  },
  {
   "cell_type": "code",
   "execution_count": null,
   "id": "859b02f4-df9f-4f86-badc-dcec6bb52b82",
   "metadata": {},
   "outputs": [],
   "source": [
    "%%html\n",
    "<iframe src=\"https://outbreaksnearme.org/us/en-US/\" width=\"1200\" height=\"1000\"></iframe>"
   ]
  },
  {
   "cell_type": "markdown",
   "id": "d3b9b263-17bd-474a-8aac-9cd05453a79e",
   "metadata": {},
   "source": [
    "### 4. Public Health Emergency Preparedness and Response \n",
    "\n",
    "Where are the incidents? Where are they headed (e.g., wildfires, storms, chemical spills)?\n",
    "Where are the people at risk?\n",
    "Where are the health assets (fixed, such as hospitals and clinics)?\n",
    "Where are the mobile healthcare resources (e.g., ambulances) and other first responders?\n",
    "\n",
    "As an example see this interactive map from Nasa, that tracks many natural disasters"
   ]
  },
  {
   "cell_type": "code",
   "execution_count": null,
   "id": "f9547e7c-a018-4c9b-88d3-ef0883228c84",
   "metadata": {},
   "outputs": [],
   "source": [
    "%%html\n",
    "<iframe src=\"https://worldview.earthdata.nasa.gov/?v=-111.133375,30.3802109375,-106.914625,32.647789062499996&e=EONET_6072,2022-05-29&efs=true&efd=2022-02-08,2022-06-08&l=VIIRS_SNPP_Thermal_Anomalies_375m_Night(hidden),VIIRS_SNPP_Thermal_Anomalies_375m_Day(hidden),VIIRS_NOAA20_Thermal_Anomalies_375m_Night(hidden),VIIRS_NOAA20_Thermal_Anomalies_375m_Day(hidden),MODIS_Aqua_Thermal_Anomalies_Night(hidden),MODIS_Aqua_Thermal_Anomalies_Day(hidden),MODIS_Terra_Thermal_Anomalies_Night,MODIS_Terra_Thermal_Anomalies_Day,OMPS_Aerosol_Index(hidden),OMPS_Aerosol_Index_PyroCumuloNimbus(hidden),VIIRS_SNPP_DayNightBand_ENCC(hidden),VIIRS_SNPP_DayNightBand_At_Sensor_Radiance(hidden),VIIRS_SNPP_DayNightBand_AtSensor_M15(hidden),Reference_Labels_15m,Reference_Features_15m,Coastlines_15m(hidden),VIIRS_SNPP_CorrectedReflectance_BandsM11-I2-I1(hidden),VIIRS_NOAA20_CorrectedReflectance_BandsM11-I2-I1(hidden),MODIS_Aqua_CorrectedReflectance_Bands721(hidden),MODIS_Terra_CorrectedReflectance_Bands721(hidden),VIIRS_NOAA20_CorrectedReflectance_TrueColor(hidden),VIIRS_SNPP_CorrectedReflectance_TrueColor(hidden),MODIS_Aqua_CorrectedReflectance_TrueColor(hidden),MODIS_Terra_CorrectedReflectance_TrueColor&lg=true&t=2022-05-30-T00%3A00%3A00Z\" width=\"1200\" height=\"1000\"></iframe>"
   ]
  },
  {
   "cell_type": "markdown",
   "id": "f881e232-09d8-417f-8743-a224e11354e0",
   "metadata": {},
   "source": [
    "### 5. Community Health Assessment, Planning, and Profiling\n",
    "\n",
    "Many health departments have used GIS to visualize the results of community health assessment activities. Community health assessment is a required activity for those local health departments seeking to be accredited in the USA. \n",
    "\n",
    "As an example you can visit the CCBH (Cuyahoga County Board of Health) and check out the maps"
   ]
  },
  {
   "cell_type": "code",
   "execution_count": null,
   "id": "f26c8e23-0333-4293-af99-4af4c14c687e",
   "metadata": {},
   "outputs": [],
   "source": [
    "%%html\n",
    "<iframe src=\"https://www.ccbh.net/covid-19-information-and-resources/\" width=\"1200\" height=\"1000\"></iframe>"
   ]
  },
  {
   "cell_type": "markdown",
   "id": "78fa5b30-7fca-4d81-80bc-0d5780d9aac7",
   "metadata": {},
   "source": [
    "### 6. Environmental Health\n",
    "\n",
    "Environmental health (EH) addresses all the physical, chemical, and biological factors external to a person, and all the related factors impacting behaviors (air pollution, water, toxics and waste, built environment). \n",
    "\n",
    "All of you might have heard about the Flint Lead-in-water crisis. Here is an interactive parcel map to explore this issue"
   ]
  },
  {
   "cell_type": "code",
   "execution_count": null,
   "id": "976fdf0f-e70e-491a-9131-d35d6b72748a",
   "metadata": {},
   "outputs": [],
   "source": [
    "%%html\n",
    "<iframe src=\"https://flintpipemap.org/map\" width=\"1200\" height=\"1000\"></iframe>"
   ]
  },
  {
   "cell_type": "markdown",
   "id": "da689aa5-e7b5-4b9e-a7f5-ef64c98372fd",
   "metadata": {},
   "source": [
    "### 7. Human Services \n",
    "\n",
    "Identifying community needs and assets.\n",
    "Improving the delivery of social services.\n",
    "Empowering communities and traditionally disenfranchised groups.\n",
    "Where are the people who need help – those at risk?\n",
    "Where are the services located?\n",
    "What are the most efficient routes?\n",
    "Where are the field staff located?\n",
    "\n",
    "A sample interactive map that shows the locations of adult education services, hot meal food pantry locations, income and education levels in South Indiana."
   ]
  },
  {
   "cell_type": "code",
   "execution_count": null,
   "id": "ef6bec62-a98a-498b-9379-571bed2f0ce1",
   "metadata": {},
   "outputs": [],
   "source": [
    "%%html\n",
    "<iframe src=\"https://d2fxn1d7fsdeeo.cloudfront.net/cfsouthernindiana.com/wp-content/uploads/2021/08/04151534/cfsi_leaflet.html\" width=\"1200\" height=\"1000\"></iframe>"
   ]
  },
  {
   "cell_type": "markdown",
   "id": "031b52fd-04aa-41c2-800a-4d1ae9471375",
   "metadata": {},
   "source": [
    "### 8. Hospitals and Health Systems\n",
    "\n",
    "There has been more interest in using GIS for service locators (consumer oriented) and health facility assessments (policy oriented). \n",
    "\n",
    "When beds are available for cleaning after a patient discharge, where maintenance is needed on equipment and the positioning of assets throughout the hospital.\n",
    "\n",
    "Let's look at an interactive map showing bed occupancy across US"
   ]
  },
  {
   "cell_type": "code",
   "execution_count": null,
   "id": "7ab0206c-8b71-4687-b178-527841c04765",
   "metadata": {},
   "outputs": [],
   "source": [
    "%%html\n",
    "<iframe src=\"https://protect-public.hhs.gov/pages/hospital-utilization\" width=\"1200\" height=\"1000\"></iframe>"
   ]
  },
  {
   "cell_type": "markdown",
   "id": "7047d3de-d911-4a61-8a36-4a56675c189e",
   "metadata": {},
   "source": [
    "### 9. Global Health\n",
    "\n",
    "Global health priorities are largely focused on HIV/AIDS, malaria, maternal and child health, and preventing leading killers like diarrhea in children. \n",
    "\n",
    "For decision making that support and strengthen linkages across health interventions towards the aim of overall health system strengthening. \n",
    "\n",
    "An interactive Atlas showing the prevelance of Malaria across the world"
   ]
  },
  {
   "cell_type": "code",
   "execution_count": null,
   "id": "08aad896-ff7c-407f-bad6-34458327519d",
   "metadata": {},
   "outputs": [],
   "source": [
    "%%html\n",
    "<iframe src=\"https://malariaatlas.org/explorer/#/\" width=\"1200\" height=\"1000\"></iframe>"
   ]
  },
  {
   "cell_type": "markdown",
   "id": "9322137e-85e7-4ac0-b920-34b9622265fd",
   "metadata": {},
   "source": [
    "#### “If we have data, let’s look at data. If all we have are opinions, let’s go with mine.” - Jim Barksdale\n",
    "\n",
    "So where do we get health data from"
   ]
  },
  {
   "cell_type": "markdown",
   "id": "8b3b07fc-e382-4252-a5d9-1f9b7813407c",
   "metadata": {},
   "source": [
    "## Health Data"
   ]
  },
  {
   "cell_type": "markdown",
   "id": "ecaad757-9541-4898-a8a4-18eea94fbd98",
   "metadata": {},
   "source": [
    "### Where do you get health data from?"
   ]
  },
  {
   "cell_type": "markdown",
   "id": "33722221-0786-4899-895c-db1c74409871",
   "metadata": {},
   "source": [
    "#### 1. Registration System Data\n",
    "\n",
    "Local governments in the United States and other countries routinely collect information on all births and deaths that occur in their jurisdictions. \n",
    "\n",
    "**Birth records document a wide range of conditions that affect newborn infants, including birthweight, gestational age, congenital malformations and obstetric procedures**, along with the mother’s demographic and social characteristics and her use of prenatal services."
   ]
  },
  {
   "cell_type": "code",
   "execution_count": null,
   "id": "60e3d671-d008-4339-94d7-efae7356db1b",
   "metadata": {},
   "outputs": [],
   "source": [
    "%%html\n",
    "<iframe src=\"https://www.cdc.gov/nchs/pressroom/sosmap/lbw_births/lbw.htm\" width=\"1200\" height=\"1000\"></iframe>"
   ]
  },
  {
   "cell_type": "markdown",
   "id": "23312c3d-c852-456b-b3fb-2953f25c6d65",
   "metadata": {},
   "source": [
    "#### 2. Birth records\n",
    "\n",
    "**Birth records include the mother’s residential address, a geographical identifier for GIS mapping and analysis. This information has been used to study environmental and neighborhood influences on maternal and infant health, for example, the effects of proximity to prenatal care services on prenatal care use and birth outcomes**.\n",
    "\n",
    "![dmaps5](images/dmaps5.png)"
   ]
  },
  {
   "cell_type": "markdown",
   "id": "a6c7ed5e-5e0e-4851-9ffd-b82b189ea6af",
   "metadata": {},
   "source": [
    "#### 3. Death certificate\n",
    "\n",
    "Death certificate data include demographic characteristics of the decedent and information about the cause of death, including the immediate cause and contributing factors. \n",
    "\n",
    "Death certificates include: \n",
    "\n",
    "a) **The place of death** which is often a hospital, nursing home, or other health care facility. This information can be used in analyzing health outcomes and service utilization by facility.\n",
    "\n",
    "b) **Residence of the decedent**. Residential addresses provide a means for linking the residential environment to mortality outcomes.\n",
    "\n",
    "![dmaps4](images/dmaps4.png)"
   ]
  },
  {
   "cell_type": "markdown",
   "id": "6171c3e7-8d16-4cda-8091-e6ddda3d1ab1",
   "metadata": {},
   "source": [
    "#### 4. Disease registries \n",
    "\n",
    "Centralized databases for the collection of information on specific diseases, the best examples being the cancer registries managed by state and local health authorities.\n",
    "\n",
    "National Cancer Institute’s Surveillance, Epidemiology, and End Results (SEER) includes active follow-up of living patients and is used to generate national estimates of overall cancer incidence and breakdowns by gender, race, age, and geographic location.\n",
    "\n",
    "The information in health databases and disease registries is protected by laws governing privacy and confidentiality. Some states will release addresses for research studies as long as appropriate measures are taken to ensure confidentiality.\n",
    "\n",
    "Unless you are in a research team and working on a Project having an IRB (Institutional Review Board), its hard to get hold of such datasets."
   ]
  },
  {
   "cell_type": "markdown",
   "id": "c8d766cf-ae58-4480-b024-b6b2f1bd4fa2",
   "metadata": {},
   "source": [
    "#### 5. Electronic Health Records\n",
    "\n",
    "Electronic version of a patients medical history, that is maintained by the provider over time, and may include all of the key administrative clinical data relevant to that persons care under a particular provider, **including demographics**, progress notes, problems, medications, vital signs, past medical history, immunizations, laboratory data and radiology reports.\n",
    "\n",
    "The data is highly confidential and unless and until you are having a collabration with a hospital and have an IRB in place, such datasets are almost always not available for analysis. "
   ]
  },
  {
   "cell_type": "markdown",
   "id": "849bac9a-8064-4691-85bd-302854f83d87",
   "metadata": {},
   "source": [
    "#### 6. Survey data\n",
    "\n",
    "Data from health surveys conducted by companies (mostly Pharma companies) contains health data as well as socio-demographic and spatial data. \n",
    "\n",
    "De-anonymized version of the datasets might be available for analysis. "
   ]
  },
  {
   "cell_type": "markdown",
   "id": "feb56992-2ba4-4cfc-84a3-cdbd35b3f57d",
   "metadata": {},
   "source": [
    "#### 7. Health Care and Health Care Utilization Data\n",
    "\n",
    "Most medical care providers and insurers maintain data on residential addresses of patients. The geographical organization of health care affects health care utilization. For example the locations of medical care providers are important when studying about access to care issues. "
   ]
  },
  {
   "cell_type": "markdown",
   "id": "e600bcc9-43a1-4044-a5d0-d178d695090e",
   "metadata": {},
   "source": [
    "The key thing to remeber when using health data is that of spatial resolution"
   ]
  },
  {
   "cell_type": "markdown",
   "id": "0e494293-88bb-4c2a-a6e2-1327bca6501a",
   "metadata": {},
   "source": [
    "## Spatial Resolution of data\n",
    "\n",
    "While using geospatial health data an important thing to consider is spatial resolution at which the data is captured. \n",
    "\n",
    "Almost all health data sets deal fundamentally with individuals and usually include address information.But during dissemination they are aggregated to predefined geographical units, such as counties, ZIP Codes, or census tracts.\n",
    "\n",
    "Most data from federal health agencies are available at the **county level**. \n",
    "\n",
    "Counties are administrative, political units that **bear little relationship to areas defined according to socioeconomic, demographic, or environmental criteria. Counties often encompass diverse physical environments and heterogeneous populations**.\n",
    "\n",
    "Counties large in area visually dominate the national map, despite the fact that they may have tiny populations. Small urban counties can hardly be seen on a national map, though they have huge populations.\n",
    "\n",
    "ZIP Codes, commonly used for the tabulation of health data, have problems analogous to those for counties.\n",
    "\n",
    "As an example, you want to study about the impact of a particular Semiconductor plant on the nearby residents interms of Lukemia. What level of spatial granularity you require. May be you want to ask questions such as how many people live with in 5km of the plant and how many of them have Lukemia. Such questions can never be answered with data aggregated to County, Census Tracts or Zip codes. For such analysis you would require fine scale point level data of the residential locations. "
   ]
  },
  {
   "cell_type": "markdown",
   "id": "80d90252-27da-489d-b91b-98e57768b1f2",
   "metadata": {},
   "source": [
    "Finally we will watch a video on how Geospatial data technology is used for solving many health related challenges"
   ]
  },
  {
   "cell_type": "code",
   "execution_count": 18,
   "id": "27ad8354-55d4-4977-9f94-7cfb9f62371d",
   "metadata": {},
   "outputs": [
    {
     "data": {
      "image/jpeg": "[encoded data removed]",
      "text/html": [
       "\n",
       "        <iframe\n",
       "            width=\"400\"\n",
       "            height=\"300\"\n",
       "            src=\"https://www.youtube.com/embed/9F7z9LLYxf8\"\n",
       "            frameborder=\"0\"\n",
       "            allowfullscreen\n",
       "            \n",
       "        ></iframe>\n",
       "        "
      ],
      "text/plain": [
       "<IPython.lib.display.YouTubeVideo at 0x1b4919f3e20>"
      ]
     },
     "execution_count": 18,
     "metadata": {},
     "output_type": "execute_result"
    }
   ],
   "source": [
    "from IPython.lib.display import YouTubeVideo\n",
    "YouTubeVideo('9F7z9LLYxf8')"
   ]
  },
  {
   "cell_type": "markdown",
   "id": "d8504d05-7c8d-4fa8-bf88-fefce6c8edf0",
   "metadata": {},
   "source": [
    "From the next session we will start into the technical aspects of handling Geospatial data using GIS. Be ready to get your hands dirty!! Stay tuned!!!!!"
   ]
  }
 ],
 "metadata": {
  "kernelspec": {
   "display_name": "Python 3 (ipykernel)",
   "language": "python",
   "name": "python3"
  },
  "language_info": {
   "codemirror_mode": {
    "name": "ipython",
    "version": 3
   },
   "file_extension": ".py",
   "mimetype": "text/x-python",
   "name": "python",
   "nbconvert_exporter": "python",
   "pygments_lexer": "ipython3",
   "version": "3.9.7"
  }
 },
 "nbformat": 4,
 "nbformat_minor": 5
}
