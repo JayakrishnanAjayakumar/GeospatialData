{
 "cells": [
  {
   "cell_type": "markdown",
   "id": "65c6a5c2-7a54-46f3-b0d2-dec24d5445f5",
   "metadata": {
    "tags": []
   },
   "source": [
    "# Spatial Data\n",
    "\n",
    "![sp1](images/sp1.jpg)"
   ]
  },
  {
   "cell_type": "markdown",
   "id": "6e2640ef-8cf2-4a0c-9a28-4651c006867a",
   "metadata": {},
   "source": [
    "### \"Any *information* can only be as good as its *Data*\""
   ]
  },
  {
   "cell_type": "markdown",
   "id": "ceb20832-f663-45fb-ba0e-92e6e1dbb956",
   "metadata": {},
   "source": [
    "## What is Spatial Data?\n",
    "\n",
    ">“Spatial data is **information about the locations and shapes of geographic features and the relationship between them**, usually stored as **coordinates and topology**.” - ESRI\n",
    "\n",
    "Another more detailed definition \n",
    "\n",
    ">Geographic or spatial data refer to **geographic facts, measurements, or characteristics of an object that permit us to define its location on the surface of the earth**. Such data include, but are not restricted to, the **latitude and longitude coordinates of points of interest, street addresses, postal codes, political boundaries, and even the names of places of interest**.\n",
    "\n",
    "So these are all examples of spatial data\n",
    "\n",
    "**(41.504, -81.608)**\n",
    "\n",
    "**2439 Overlook Rd, Cleveland Ohio 44106**\n",
    "\n",
    "**44106**\n",
    "\n",
    "**The Eiffel Tower**\n",
    "\n",
    "**Ohio**\n",
    "\n",
    "While **geographic data** is concerned with **defining the location of an object of interest**, **attribute data** is concerned with its **nongeographic traits and characteristics**.\n",
    "\n",
    "A simple example is **your home**. It can have both spatial and attribute data\n",
    "\n",
    "The location of your home (Street Address, or even lat/lon) can be considered as spatial data, while other qualities of your home such as number of bedrooms and bathrooms in your home, whether or not your home has central air-conditoining, the year your home was built, the number of occupants, or whether or not there is a swimming pool can be considered attribute data.\n",
    "\n",
    "![sp2](images/sp2.png)\n",
    "\n",
    "It is important to understand how spatial and attribute data complement each other. One of the strength of a GIS is to utilize the combination of spatial and attribute data. "
   ]
  },
  {
   "cell_type": "markdown",
   "id": "17ac6c9a-a44b-4359-9586-72fbfa333939",
   "metadata": {},
   "source": [
    "## Models for Spatial Data"
   ]
  },
  {
   "cell_type": "markdown",
   "id": "4e812cd9-ba5f-40ca-b180-4b066d0de94a",
   "metadata": {},
   "source": [
    "In order to represent the spatial data in a computer, one must determine how to best represent geographic space\n",
    "\n",
    ">Data Models are a **set of rules and/or constructs used to describe and represent aspects of the real world in a computer**.\n",
    "Two primary data models are available to complete this task: **raster data models and vector data models**.\n",
    "\n",
    "Let's look at them in detail. "
   ]
  },
  {
   "cell_type": "markdown",
   "id": "a573c069-ee3c-4cc4-aac7-d524b73f89bc",
   "metadata": {},
   "source": [
    "### Vector Data Model\n",
    "\n",
    ">Vector data models use **points and their associated coordinate pairs** (lat/lon or X,Y) to represent\n",
    "the **vertices of spatial features**, much as if they were being drawn on a map by hand. The data attributes of these features are stored seperately (mostly in a database).The spatial information and the attribute information for these models are linked via a simple identification number that is given to each feature in a map.\n",
    "\n",
    "There are three fundamental vector types"
   ]
  },
  {
   "cell_type": "markdown",
   "id": "446f24a1-f898-4415-8b3f-c67c06f2c459",
   "metadata": {},
   "source": [
    "#### Point\n",
    "\n",
    ">Points are **zero-dimensional objects that contain only a single coordinate pair**. Points are typically used\n",
    "to model singular, discrete features such as **buildings, wells, power poles, sample locations, and so forth**. \n",
    "\n",
    "Your home can be represented as a point. The cholera death locations that we saw in the last chapter is an example of point data. Can you think about other examples.\n"
   ]
  },
  {
   "cell_type": "markdown",
   "id": "52f8580d-56be-4b23-88e7-8580e5eb2f55",
   "metadata": {},
   "source": [
    "#### Lines\n",
    "\n",
    ">Lines are **one-dimensional features composed of multiple, explicitly connected points**. Lines are used to\n",
    "represent **linear features such as roads, streams, faults, boundaries, and so forth**. \n",
    "\n",
    "Can you think about any linear features??"
   ]
  },
  {
   "cell_type": "markdown",
   "id": "c497d28f-98f7-499e-9e0e-713d96c5d03b",
   "metadata": {},
   "source": [
    "#### Polygons\n",
    "\n",
    ">Polygons are **two-dimensional features created by multiple lines that loop back to create a “closed” feature**. Polygons are used to represent features such as **city boundaries, geologic formations, lakes, soil associations, vegetation communities, and so forth**. Polygons are also called areas.\n",
    "\n",
    "The boundaries for the state of Ohio can be represented as a polygon. Can you think about any other examples??\n"
   ]
  },
  {
   "cell_type": "markdown",
   "id": "079d8aa6-8140-4aac-9087-e7c490252efb",
   "metadata": {},
   "source": [
    "![sp3](images/sp3.png)"
   ]
  },
  {
   "cell_type": "markdown",
   "id": "2a655009-3cd2-4a66-a6f2-a78fde5dc639",
   "metadata": {},
   "source": [
    "A key think to understand that the same feature can be represented as a \"Point\" or a \"Polygon\" or a \"Line\" depending up on your **scale** of analysis. \n",
    "\n",
    "For example the **city of Cleveland** can be represented as a **point in the United States map** and it can be represented as a **Polygon in a map of the city of Cleveland**. \n",
    "\n",
    "**\"Scale Matters\"**"
   ]
  },
  {
   "cell_type": "markdown",
   "id": "9c7aa996-c76a-4320-b70c-8c3641ffd9cd",
   "metadata": {},
   "source": [
    "### Raster Data Model\n",
    "\n",
    ">The raster model is based on a **systematic division of space**. The whole space is **characterized by a set of elements that cover it, each of them with an associated value**.\n",
    "\n",
    "**Raster data is structured as an array or grid of cells**, referred to as **raster pixels** (can you think about any raster data).\n",
    "Each cell in a raster is addressed by its position in the array (row and column number). Rasters are able to represent a large\n",
    "range of computable spatial objects. Thus, a point may be represented by a single cell, an arc by a sequence of neighboring cells and a connected area by a collection of contiguous cells. \n",
    "\n",
    "![sp4](images/sp4.png)\n",
    "\n",
    "\n",
    "![sp5](images/sp5.png)"
   ]
  },
  {
   "cell_type": "markdown",
   "id": "4941edb1-351e-40f1-9b3b-f847fb3d1d72",
   "metadata": {},
   "source": [
    "### When to use Raster and when to use Vector\n",
    "\n",
    "The general rule of thumb is that it is better to use **raster layers for continuous variables such as elevation, snow depth, PM2.5, or precipitation**, in order to make it easier to perform analysis based on them. **Discrete variables, on the other hand, are better represented using a vector approach**. For example while locations of airquality monitors can be represented as points (vectors), the PM2.5 concentration that they measure can be best represented using a raster. Rather than just knowing the PM2.5 value at the exact location of the airquality monitor, we would want to know the Pm2.5 value for an area or surface (for which raster is the best model)."
   ]
  },
  {
   "cell_type": "markdown",
   "id": "0ce95152-3685-4e56-8895-c214a299538f",
   "metadata": {},
   "source": [
    "## Scale \n",
    "\n",
    "How to represent a real-world entity is dictated by the scale of the analysis.In a GIS, scale has a specific meaning: it’s the ratio of distance on the map to that in the real world. So a **large scale map implies a relatively large ratio and thus a small extent** (this is counter to the layperson’s interpretation of large scale).\n",
    "\n",
    "![sp6](images/sp6.png)"
   ]
  },
  {
   "cell_type": "markdown",
   "id": "f9249c3b-03fe-4d96-853c-bf70f0c5c699",
   "metadata": {},
   "source": [
    "## Attribute Tables\n",
    "\n",
    "**Non-spatial information associated with a spatial feature is referred to as an attribute**. A feature on a GIS map is linked to its record in the attribute table by a unique numerical identifier (ID). Every feature in a layer has an identifier. In the cholera deaths example that we have seen in the last chapter, the table representing \"ID\" and \"Counts\" (attributes) is called the attribute table.\n",
    "\n",
    "![sp7](images/sp7.png)"
   ]
  },
  {
   "cell_type": "markdown",
   "id": "f82cae3a-67d8-4e2a-a44f-024163f94745",
   "metadata": {},
   "source": [
    "## Spatial Data Acquisition (Capture)"
   ]
  },
  {
   "cell_type": "markdown",
   "id": "dfdd8fe8-52c2-453e-9e9c-14c784a3448b",
   "metadata": {},
   "source": [
    ">The process of **collecting data from observations of the physical environment is termed data capture**.\n",
    "\n",
    "Data sources that produce data ready for use in GIS are called **primary data sources** and those that generate data that has to be **adapted or converted are called secondary data sources**."
   ]
  },
  {
   "cell_type": "markdown",
   "id": "5da418ae-ad6b-423c-a1d8-a14d0ed16a74",
   "metadata": {},
   "source": [
    "1. *Remote sensing*\n",
    "\n",
    "Remote sensing is the **acquisition of information about an object or phenomenon without making physical contact with it**.\n",
    "Raster data obtained via direct capture comes more commonly from remotely sensed sources. Remotely sensed data offers the advantage of obviating the need for physical access to the area being imaged. In addition, huge tracts of land can be characterized with little to no additional time and labor by the researcher.\n",
    "\n",
    "![sp8](images/sp8.jpg)\n",
    "\n",
    "2. *Global Positioning System (GPS)*\n",
    "\n",
    "In the case of GPS, handheld units access positional data from satellites and log the information for subsequent retrieval. GPS is becoming increasingly incorporated into other new technologies. For example, smartphones now embed GPS capabilities as a standard technological component. These phone/GPS units maintain comparable accuracy to similarly priced stand-alone GPS units and are largely responsible for a renaissance in facilitating portable, real-time data capture and sharing to the masses.\n",
    "\n",
    "**Crowdsourcing** is a data collection method whereby users **contribute freely to building spatial databases**. \n",
    "\n",
    "![sp9](images/sp9.jpg)\n",
    "\n",
    "3. *Digitization*\n",
    "\n",
    "There is a great deal of spatial information that can be gleaned from **existing, nondigital sources**. Paper maps, for example, may contain current or historic information on a locale that cannot be found in digital format. In this case, the process of digitization can be used to create digital files from the original paper copy.\n",
    "\n",
    "![sp10](images/sp10.jpg)\n",
    "\n",
    "4. *Volunteered Geographical Information (VGI)*\n",
    "\n",
    "The term **Volunteered Geographical Information (VGI) refers to the use of the Internet to create, manage, and share geographical information which has been voluntarily contributed by a community of users, also using the Internet**. The set of techniques and tools used by those users is termed **neogeography**. The following are some ideas about these changes and neogeography itself.\n",
    "\n",
    "Popularization and democratization\n",
    "\n",
    "Citizens become sensors and are more conscious of their geospatial reality.\n",
    "\n",
    "Cartographic production loses its mysticism.\n",
    "\n",
    "The most relevant VGI project at this time is OpenStreetMap (OSM)a *collaborative project to create a free editable map of the world.*\n",
    "\n",
    "![sp11](images/sp11.png)"
   ]
  },
  {
   "cell_type": "markdown",
   "id": "137af011-aec6-4495-8e55-52b6621f033a",
   "metadata": {},
   "source": [
    "## Spatial Data File Formats\n",
    "\n",
    "There are many different ways of saving spatial data. We will be covering some of them here."
   ]
  },
  {
   "cell_type": "markdown",
   "id": "4590629e-ad69-4aef-9286-0e27584ac2d5",
   "metadata": {},
   "source": [
    "### Shapefile\n",
    "\n",
    "The most common vector file format is the shapefile. Shapefiles, **developed by ESRI in the early 1990s**. Shapefiles are **incapable of storing null values, as well as annotations or network features**. **Field names within the attribute table are limited to ten characters, and each shapefile can represent only point, line, or polygon feature sets**.Shapefiles are supported by almost all commercial and open-source GIS software.\n",
    "\n",
    "We have already seen an example of loading a shapefile to the QGIS environment. The key thing to not is that a shapefile is not a single file. Its a combination of files and all the files are mandatory for the loading of the file to a GIS. For example if you check the cholera death file, you will see a set of files with the same name and different extension\n",
    "\n",
    "![shp](images/shp.png)\n",
    "\n",
    "Eventhough we are only loading the file with an extension **.shp**, all the other files are important for the file to be properly loaded to a GIS. So if you are sending this data to someone, you should be sending all the files together. \n",
    "\n",
    "![shp2](images/shp2.png)"
   ]
  },
  {
   "cell_type": "markdown",
   "id": "6c6a4a6f-c086-4de7-8c93-404d0ab6ea1d",
   "metadata": {},
   "source": [
    "### CSV File\n",
    "\n",
    ">A comma-separated values (CSV) file is a **delimited text file that uses a comma to separate values**. Each line of the file is a data record. Each record consists of one or more fields, separated by commas. A CSV file typically stores tabular data (numbers and text) in plain text, in which case each line will have the same number of fields.\n",
    "\n",
    "CSV files can be directly opened in a spreadsheet software such as Microsoft Excel.\n",
    "\n",
    "Let's see how we can load up a CSV file in to our QGIS environment. \n",
    "\n",
    "1. Download the CSV file\n",
    "\n",
    "Download the csv file from the location https://cwru.box.com/s/e61anmbcxhits2oisk6ir5mnrhlc621i\n",
    "\n",
    "2. Explore the different fields in the file. \n",
    "\n",
    "In order to represent this file as a spatial data layer the file should have two columns containing the spatial coordinates. In this file we have two columns \"longitude\" and \"latitude\" which represent the coordinates.\n",
    "\n",
    "3. Load the data to QGIS\n",
    "\n",
    "First select the Open Data Source Manager\n",
    "\n",
    "![csv](images/csv.png)\n",
    "\n",
    "Select the \"Delimited Text\" option\n",
    "\n",
    "![csv1](images/csv1.png)\n",
    "\n",
    "Select the downloaded csv file by clicking on the button near to \"File name\". Also select Point coordinates in Geometry Definition and select longitude as X field and latitude as Y field.\n",
    "\n",
    "![csv2](images/csv2.png)\n",
    "\n",
    "Click on Add and voilaaa!!....you have a new spatial layer\n",
    "\n",
    "![csv3](images/csv3.png)\n",
    "\n",
    "If you open the attribute table you can see all the columns in the CSV file\n",
    "\n",
    "![csv4](images/csv4.png)\n",
    "\n",
    "4. Open the file in Python (optional)\n",
    "\n",
    "Let's try this out in Python"
   ]
  },
  {
   "cell_type": "code",
   "execution_count": 18,
   "id": "89a22397-6e2b-418e-aa57-183b3cfbdff8",
   "metadata": {},
   "outputs": [],
   "source": [
    "import pandas as pd\n",
    "import geopandas as gpd\n",
    "#load the csv file\n",
    "earthQuakeCSV = pd.read_csv(r'../sharedData/earthquake_above4.5_us_only.csv')\n",
    "#convert the non spatial dataframe to spatial GeoDataFrame\n",
    "earthQuakeGeo = gpd.GeoDataFrame(earthQuakeCSV,geometry = gpd.points_from_xy(earthQuakeCSV.longitude,earthQuakeCSV.latitude),crs='EPSG:4326')"
   ]
  },
  {
   "cell_type": "code",
   "execution_count": 19,
   "id": "09c91013-4529-430e-9ef8-d58bf913bd3c",
   "metadata": {},
   "outputs": [
    {
     "name": "stdout",
     "output_type": "stream",
     "text": [
      "                         time   latitude   longitude      depth   mag magType  \\\n",
      "0    2022-04-15T04:30:55.980Z  31.930500 -116.892500  14.510000  4.54      mw   \n",
      "1    2022-03-25T03:01:58.874Z  31.669093 -104.420423   6.799976  4.60      ml   \n",
      "2    2022-02-15T21:16:24.065Z  38.181400 -117.783300   4.100000  4.70      ml   \n",
      "3    2022-01-31T17:10:21.129Z  36.851000  -97.793500   7.850000  4.50     mww   \n",
      "4    2022-01-21T21:26:35.964Z  26.767500 -110.867100  10.000000  5.30     mww   \n",
      "..                        ...        ...         ...        ...   ...     ...   \n",
      "291  2012-08-26T19:20:04.810Z  33.015833 -115.536333   4.790000  4.59      mw   \n",
      "292  2012-08-02T22:13:18.610Z  24.999000 -109.391000  10.000000  4.80      mb   \n",
      "293  2012-07-01T06:36:06.350Z  32.213167 -115.288667   9.641000  4.68      mw   \n",
      "294  2012-07-01T03:25:20.450Z  32.207167 -115.343167   2.821000  4.64      mw   \n",
      "295  2012-05-17T08:12:00.990Z  31.926000  -94.369000   5.000000  4.80     mwr   \n",
      "\n",
      "       nst    gap     dmin    rms  ...  \\\n",
      "0     27.0  234.0  0.20380  0.230  ...   \n",
      "1     65.0   61.0  0.06850  0.200  ...   \n",
      "2     23.0   33.3  0.12000  0.132  ...   \n",
      "3     96.0   91.0  0.00000  0.230  ...   \n",
      "4      NaN  110.0  3.77300  0.890  ...   \n",
      "..     ...    ...      ...    ...  ...   \n",
      "291   23.0   87.0  0.03107  0.120  ...   \n",
      "292  270.0  162.3      NaN  1.290  ...   \n",
      "293   14.0  189.0  0.20620  0.220  ...   \n",
      "294   10.0  187.0  0.21420  0.240  ...   \n",
      "295  300.0   18.3      NaN  1.240  ...   \n",
      "\n",
      "                                       place        type horizontalError  \\\n",
      "0              20km W of El Sauzal, B.C., MX  earthquake        0.800000   \n",
      "1         56 km S of Whites City, New Mexico  earthquake        0.892217   \n",
      "2                   36 km SE of Mina, Nevada  earthquake             NaN   \n",
      "3               7 km NW of Medford, Oklahoma  earthquake             NaN   \n",
      "4        76 km SSW of Bahía de Lobos, Mexico  earthquake        6.900000   \n",
      "..                                       ...         ...             ...   \n",
      "291                     4km N of Brawley, CA  earthquake        0.390000   \n",
      "292         74 km SSW of Topolobampo, Mexico  earthquake             NaN   \n",
      "293  11km W of Alberto Oviedo Mota, B.C., MX  earthquake        1.240000   \n",
      "294  16km W of Alberto Oviedo Mota, B.C., MX  earthquake        1.260000   \n",
      "295                3 km NE of Timpson, Texas  earthquake             NaN   \n",
      "\n",
      "    depthError magError  magNst    status  locationSource  magSource  \\\n",
      "0     1.060000      NaN     6.0  reviewed              ci         ci   \n",
      "1     1.011929    0.200    38.0  reviewed              tx         tx   \n",
      "2     3.500000    0.140     7.0  reviewed              nn         nn   \n",
      "3     0.500000      NaN    35.0  reviewed              ok         us   \n",
      "4     1.900000    0.039    63.0  reviewed              us         us   \n",
      "..         ...      ...     ...       ...             ...        ...   \n",
      "291   0.480000      NaN     6.0  reviewed              ci         ci   \n",
      "292        NaN      NaN   206.0  reviewed              us         us   \n",
      "293  31.610000      NaN     6.0  reviewed              ci         ci   \n",
      "294   8.280000      NaN     0.0  reviewed              ci         ci   \n",
      "295        NaN      NaN     NaN  reviewed              us         us   \n",
      "\n",
      "                        geometry  \n",
      "0    POINT (-116.89250 31.93050)  \n",
      "1    POINT (-104.42042 31.66909)  \n",
      "2    POINT (-117.78330 38.18140)  \n",
      "3     POINT (-97.79350 36.85100)  \n",
      "4    POINT (-110.86710 26.76750)  \n",
      "..                           ...  \n",
      "291  POINT (-115.53633 33.01583)  \n",
      "292  POINT (-109.39100 24.99900)  \n",
      "293  POINT (-115.28867 32.21317)  \n",
      "294  POINT (-115.34317 32.20717)  \n",
      "295   POINT (-94.36900 31.92600)  \n",
      "\n",
      "[296 rows x 23 columns]\n"
     ]
    }
   ],
   "source": [
    "print (earthQuakeGeo)"
   ]
  },
  {
   "cell_type": "code",
   "execution_count": 20,
   "id": "13564266-f34f-4457-88da-699b144a9759",
   "metadata": {},
   "outputs": [
    {
     "data": {
      "image/png": "[encoded data removed]",
      "text/plain": [
       "<Figure size 432x288 with 1 Axes>"
      ]
     },
     "metadata": {
      "needs_background": "light"
     },
     "output_type": "display_data"
    }
   ],
   "source": [
    "earthQuakeGeo.plot();"
   ]
  },
  {
   "cell_type": "markdown",
   "id": "9bf7b550-9370-42e8-adc5-0ef63f2898f6",
   "metadata": {},
   "source": [
    "### KML File\n",
    "\n",
    "Now let's look into another type of spatial data file called the **Keyhole Markup Language (KML)**. We will first load the KML file to a software called Google Earth and then into QGIS\n",
    "\n",
    "1. Download the KML file\n",
    "\n",
    "Download the KML file from https://cwru.box.com/s/25cnfjnzilyyslqq74kfk987p3iq897y\n",
    "\n",
    "2. Load the KML file to Google Earth.\n",
    "\n",
    "Open Google Earth\n",
    "\n",
    "![kml](images/kml.png)\n",
    "\n",
    "Click on File and click on Open and then select the file Areas for Covid Analysis\n",
    "\n",
    "![kml1](images/kml1.png)\n",
    "\n",
    "This example shows how we can load a KML file to Google Earth. \n",
    "\n",
    "3. Load the KML file to QGIS.\n",
    "\n",
    "First select the Open Data Source Manager\n",
    "\n",
    "![csv](images/csv.png)\n",
    "\n",
    "Select Vector from the left sidebar and select the kml file \"Area of Covid Analysis\" for the Vector Dataset(s)\n",
    "\n",
    "![kml3](images/kml3.png)\n",
    "\n",
    "Click on 'Add' to load the KML layer.  \n",
    "\n",
    "![kml4](images/kml4.png)\n",
    "\n",
    "4. Let's open this in Python (optional)"
   ]
  },
  {
   "cell_type": "code",
   "execution_count": 21,
   "id": "4520e993-9db9-4e07-a704-72179d94e719",
   "metadata": {},
   "outputs": [],
   "source": [
    "import geopandas as gpd\n",
    "gpd.io.file.fiona.drvsupport.supported_drivers['KML'] = 'rw'\n",
    "kmlFile = gpd.read_file('../sharedData/Areas for Covid Analysis.kml', driver='KML')"
   ]
  },
  {
   "cell_type": "code",
   "execution_count": 22,
   "id": "05821e68-b47e-4075-a6d6-5004676279e7",
   "metadata": {},
   "outputs": [
    {
     "name": "stdout",
     "output_type": "stream",
     "text": [
      "                    Name Description  \\\n",
      "0            AkronSummit               \n",
      "1                  Akron               \n",
      "2                Wooster               \n",
      "3          Border Summit               \n",
      "4          Border Lorain               \n",
      "5                 Elyria               \n",
      "6        Northern Elyria               \n",
      "7               Lakewood               \n",
      "8                  Parma               \n",
      "9      Western Cleveland               \n",
      "10  South East Cleveland               \n",
      "11      NorthEastern CUY               \n",
      "12                  Lake               \n",
      "13           Eastern CUY               \n",
      "14               Ashland               \n",
      "15               Portage               \n",
      "16        Western Geauga               \n",
      "17             Ashtabula               \n",
      "18         Border Medina               \n",
      "19            Tuscarawas               \n",
      "\n",
      "                                             geometry  \n",
      "0   POLYGON Z ((-81.50907 41.20638 0.00000, -81.58...  \n",
      "1   POLYGON Z ((-81.48340 41.16959 0.00000, -81.58...  \n",
      "2   POLYGON Z ((-81.96172 40.87340 0.00000, -82.00...  \n",
      "3   POLYGON Z ((-81.57053 41.38020 0.00000, -81.57...  \n",
      "4   POLYGON Z ((-82.07695 41.49814 0.00000, -82.07...  \n",
      "5   POLYGON Z ((-82.16265 41.40451 0.00000, -82.15...  \n",
      "6   POLYGON Z ((-82.25358 41.43286 0.00000, -82.25...  \n",
      "7   POLYGON Z ((-81.86758 41.48165 0.00000, -81.85...  \n",
      "8   POLYGON Z ((-81.68824 41.41720 0.00000, -81.80...  \n",
      "9   POLYGON Z ((-81.78190 41.49455 0.00000, -81.82...  \n",
      "10  POLYGON Z ((-81.59574 41.50723 0.00000, -81.59...  \n",
      "11  POLYGON Z ((-81.70061 41.50911 0.00000, -81.69...  \n",
      "12  POLYGON Z ((-81.48972 41.63058 0.00000, -81.48...  \n",
      "13  POLYGON Z ((-81.44053 41.57281 0.00000, -81.46...  \n",
      "14  POLYGON Z ((-82.37306 40.91664 0.00000, -82.36...  \n",
      "15  POLYGON Z ((-81.38593 41.34461 0.00000, -81.38...  \n",
      "16  POLYGON Z ((-81.43856 41.57132 0.00000, -81.44...  \n",
      "17  POLYGON Z ((-80.99425 41.85546 0.00000, -80.99...  \n",
      "18  POLYGON Z ((-81.88053 41.35044 0.00000, -81.89...  \n",
      "19  POLYGON Z ((-81.50112 40.62000 0.00000, -81.57...  \n"
     ]
    }
   ],
   "source": [
    "print (kmlFile)"
   ]
  },
  {
   "cell_type": "code",
   "execution_count": 23,
   "id": "27724020-8e83-450c-a24b-71b722dd6659",
   "metadata": {},
   "outputs": [
    {
     "data": {
      "image/png": "[encoded data removed]",
      "text/plain": [
       "<Figure size 432x288 with 1 Axes>"
      ]
     },
     "metadata": {
      "needs_background": "light"
     },
     "output_type": "display_data"
    }
   ],
   "source": [
    "kmlFile.plot();"
   ]
  },
  {
   "cell_type": "markdown",
   "id": "dda72174-11a9-4609-9bcb-db409484d6e9",
   "metadata": {},
   "source": [
    "### GPX File\n",
    "GPX, or GPS Exchange Format, is an XML schema designed as a common GPS data format for software applications. It can be used to describe waypoints, tracks, and routes.Location data (and optionally elevation, time, and other information) is stored in tags and can be interchanged between GPS devices and software.\n",
    "Let's try loading a GPX file into QGIS\n",
    "\n",
    "1. Download the GPX file\n",
    "\n",
    "Download the GPX file from https://cwru.box.com/s/omsxnwxxz3a77akgtv48i1exd48zdtl0\n",
    "\n",
    "2. Load the GPX file to QGIS\n",
    "\n",
    "First select the Open Data Source Manager\n",
    "\n",
    "![csv](images/csv.png)\n",
    "\n",
    "Select Vector from the left sidebar and select the gpx file \"VD12112017_Rob1of4_corrected_gps\" for the Vector Dataset(s)\n",
    "\n",
    "![kml3](images/kml3.png)\n",
    "\n",
    "Click on 'Add' to load the GPX layer.  \n",
    "\n",
    "![gpx](images/gpx.png)\n",
    "\n",
    "3. Let's open this GPX file in Python (option)"
   ]
  },
  {
   "cell_type": "code",
   "execution_count": 24,
   "id": "ad2ae4a3-ac62-4b5a-9bfa-618fd494a51f",
   "metadata": {},
   "outputs": [],
   "source": [
    "import geopandas as gpd\n",
    "gpsData = gpd.read_file('../sharedData/VD12112017_Rob1of4_corrected_gps.gpx', layer='tracks')"
   ]
  },
  {
   "cell_type": "code",
   "execution_count": 25,
   "id": "b4f0d05e-e48a-4e0e-8c1b-293d35515891",
   "metadata": {},
   "outputs": [
    {
     "name": "stdout",
     "output_type": "stream",
     "text": [
      "                                 name   cmt  desc   src link1_href link1_text  \\\n",
      "0  Track exported from Contour camera  None  None  None       None       None   \n",
      "\n",
      "  link1_type link2_href link2_text link2_type number  type  \\\n",
      "0       None       None       None       None   None  None   \n",
      "\n",
      "                                            geometry  \n",
      "0  MULTILINESTRING ((-72.34909 18.53818, -72.3490...  \n"
     ]
    }
   ],
   "source": [
    "print (gpsData)"
   ]
  },
  {
   "cell_type": "code",
   "execution_count": 26,
   "id": "debe2afc-844f-4e28-8245-7eee031f881a",
   "metadata": {},
   "outputs": [
    {
     "data": {
      "image/png": "[encoded data removed]",
      "text/plain": [
       "<Figure size 432x288 with 1 Axes>"
      ]
     },
     "metadata": {
      "needs_background": "light"
     },
     "output_type": "display_data"
    }
   ],
   "source": [
    "gpsData.plot();"
   ]
  },
  {
   "cell_type": "markdown",
   "id": "d91a5d89-7f88-4302-a64a-d8761ab3fa38",
   "metadata": {},
   "source": [
    "### GeoTIFF File (Raster)\n",
    "\n",
    "GeoTIFF is a public domain metadata standard which allows georeferencing information to be embedded within a TIFF file. The potential additional information includes map projection, coordinate systems, ellipsoids, datums, and everything else necessary to establish the exact spatial reference for the file. \n",
    "We are loading a raster file for the first time\n",
    "\n",
    "1. Download the GeoTiff file\n",
    "\n",
    "Download the GeoTiff file from the location https://cwru.box.com/s/2wgylvmdk8r3ajknq8t93p74qp2fsa7i\n",
    "\n",
    "2. Load the GeoTiff file to QGIS\n",
    "\n",
    "First select the Open Data Source Manager\n",
    "\n",
    "![csv](images/csv.png)\n",
    "\n",
    "Select the Raster option from the sidebar and then select the file precipitation_usa.tif for the Raster dataset(s)\n",
    "\n",
    "![tiff](images/tiff.png)\n",
    "\n",
    "Click on Add and voila we have our first raster\n",
    "\n",
    "![tiff1](images/tiff1.png)\n",
    "\n",
    "3. Now let's try this in Python"
   ]
  },
  {
   "cell_type": "code",
   "execution_count": 28,
   "id": "963c147d-6fa3-49cd-bbcd-f4860e125582",
   "metadata": {},
   "outputs": [
    {
     "data": {
      "image/png": "[encoded data removed]",
      "text/plain": [
       "<Figure size 432x288 with 1 Axes>"
      ]
     },
     "metadata": {
      "needs_background": "light"
     },
     "output_type": "display_data"
    }
   ],
   "source": [
    "import rasterio as rio\n",
    "from rasterio.plot import show\n",
    "precip = rio.open(\"../sharedData/precipitation_usa.tif\")\n",
    "show(precip);"
   ]
  },
  {
   "cell_type": "markdown",
   "id": "c47281ca-0e08-4b9e-bd7d-fef0ed35664b",
   "metadata": {},
   "source": [
    "Now that you have seen the different spatial data file types (there are many more such as GeoJSON), we will look into geocoding, which is a way converting an address to spatial data in the next section. "
   ]
  }
 ],
 "metadata": {
  "kernelspec": {
   "display_name": "Python 3 (ipykernel)",
   "language": "python",
   "name": "python3"
  },
  "language_info": {
   "codemirror_mode": {
    "name": "ipython",
    "version": 3
   },
   "file_extension": ".py",
   "mimetype": "text/x-python",
   "name": "python",
   "nbconvert_exporter": "python",
   "pygments_lexer": "ipython3",
   "version": "3.9.7"
  }
 },
 "nbformat": 4,
 "nbformat_minor": 5
}
