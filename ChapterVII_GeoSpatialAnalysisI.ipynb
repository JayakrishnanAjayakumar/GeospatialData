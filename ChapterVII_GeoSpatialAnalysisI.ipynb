{
 "cells": [
  {
   "cell_type": "markdown",
   "id": "a9cc0f8d-e6e8-4736-b137-9b21ec1aaa42",
   "metadata": {},
   "source": [
    "# Geospatial Analysis I (Vector Operations)"
   ]
  },
  {
   "cell_type": "markdown",
   "id": "34b9c544-40a4-4aa6-bd6e-39e5e63c5bbe",
   "metadata": {},
   "source": [
    "In the last section we have seen various techniques for visualizing spatial data. These methods are really indispensable for understanding both quantitative and qualitative trends in data. But the **real power of spatial data** is when it can be **related to other spatial data sources**, and GIS helps to achieve this goal. \n",
    "\n",
    "In this section we look at various techniques for searching, querying, and combining spatial data.\n",
    "\n",
    "First we will look at selection"
   ]
  },
  {
   "cell_type": "markdown",
   "id": "f2acd20e-9893-4461-bcac-54ac0401d48d",
   "metadata": {},
   "source": [
    "## Selection"
   ]
  },
  {
   "cell_type": "markdown",
   "id": "143447c7-f765-449a-9a92-5c23a5010258",
   "metadata": {},
   "source": [
    "### Selection by Attribute\n",
    "\n",
    "This is basically a non-spatial selection strategy where we will use the attributes (columns) for selecting subsets of spatial data.\n",
    "\n",
    "Let's look at an example. For this example we will use the hospital records dataset. \n",
    "\n",
    "1. Download the hospital records dataset from https://cwru.box.com/s/av0xuueq98usufwbljl36id96k3m1qwh\n",
    "\n",
    "2. Load it to QGIS (its a CSV file and use the latitude and longitude fields for converting it to a spatial layer)\n",
    "\n",
    "![vector1](images/vector1.png)\n",
    "\n",
    "It has hospitals from all around US and hence have realtively high number of records\n",
    "\n",
    "3. Lets select all the hospitals from Ohio. (We can use the STATE attribute)\n",
    "\n",
    "Open the attribute table. Click on select features using an expression\n",
    "\n",
    "![vector2](images/vector2.png)\n",
    "\n",
    "Select the fields and values drop down and click on the option STATE\n",
    "\n",
    "![vector3](images/vector3.png)\n",
    "\n",
    "On the query window add \"STATE\" = 'OH'\n",
    "\n",
    "![vector4](images/vector4.png)\n",
    "\n",
    "Click on the \"Select Features\" and click on close.\n",
    "\n",
    "If you now check the attribute table you can see that 2957 records are selected\n",
    "\n",
    "![vector5](images/vector5.png)\n",
    "\n",
    "And if you check the map, the hospitals from Ohio will be highlighted in Ohio. \n",
    "\n",
    "![vector6](images/vector6.png)\n",
    "\n",
    "4. Let's select all hospitals from Ohio that has a helipad\n",
    "\n",
    "Here we will use the AND operator to combine two filter statements.\n",
    "\n",
    "![vector7](images/vector7.png)\n",
    "\n",
    "So there are 1672 records\n",
    "\n",
    "![vector8](images/vector8.png)\n",
    "\n",
    "5. Now what if we want to select all hospitals from Ohio that has a helipad and has atleast 1000 beds\n",
    "\n",
    "![vector9](images/vector9.png)\n",
    "\n",
    "There are apparently only 40 hospitals that match the criteria\n",
    "\n",
    "![vector10](images/vector10.png)\n",
    "\n",
    "6. Now if we want to save this select to a new file we can do that by using Export feature\n",
    "\n",
    "![vector11](images/vector11.png)\n",
    "\n",
    "7. Once you export the selected feature, you will have a new layer. \n",
    "\n",
    "You can add a basemap to see where these hospitals are. They are in Columbus and Cleveland\n",
    "\n",
    "![vector12](images/vector12.png)\n",
    "\n",
    "\n",
    "So we have seen how we can use attribute columns to filter records. We can write complex queries (with many operators) using this approach for selecting particular subset of data. \n",
    "\n",
    "Let' see how we can do this in Python"
   ]
  },
  {
   "cell_type": "code",
   "execution_count": 75,
   "id": "091e3068-f1fc-4b98-8b94-f83dbd631c41",
   "metadata": {},
   "outputs": [],
   "source": [
    "#pandas for loading the csv hospital file\n",
    "import pandas as pd\n",
    "data = pd.read_csv('../sharedData/Hospitalsdata.csv',encoding_errors='ignore')\n",
    "oh_data = data[data.STATE == 'OH']\n",
    "oh_data_helipad = data.loc[(data.STATE == 'OH')&(data.HELIPAD=='Y')]\n",
    "oh_data_helipad_1000_beds = data.loc[(data.STATE == 'OH')&(data.HELIPAD=='Y')&(data.BEDS>=1000)]"
   ]
  },
  {
   "cell_type": "markdown",
   "id": "3c4459d9-6b85-4d66-ba52-4505f1d3fdf6",
   "metadata": {},
   "source": [
    "## Creating a new column based on existing column"
   ]
  },
  {
   "cell_type": "markdown",
   "id": "5e499a09-a1f9-4d86-be26-a0ccadab8765",
   "metadata": {},
   "source": [
    "You can create a new attribute column based on existing columns. For example if you have two different columns with total covid cases and total population then you can create a new column case_per_population by dividing the covid cases column values with the population column. \n",
    "\n",
    "Let's look at an example\n",
    "\n",
    "Download the Ohio Covid case and death data from https://cwru.box.com/s/whup139cicpqyalacxlcwmcyjfd6kkdi\n",
    "\n",
    "Load the data into QGIS (its a non spatial CSV file)\n",
    "\n",
    "Check the attributes\n",
    "\n",
    "![vector43](images/vector43.png)\n",
    "\n",
    "\n",
    "Now what if we want to create a new attribute column with total cases per population.\n",
    "\n",
    "Select open field calculator\n",
    "![vector44](images/vector44.png)\n",
    "\n",
    "![vector45](images/vector45.png)\n",
    "\n",
    "Provide a name for the new column\n",
    "\n",
    "![vector46](images/vector46.png)\n",
    "\n",
    "Select the required columns and then add the required formula\n",
    "\n",
    "![vector47](images/vector47.png)\n",
    "\n",
    "Click on add and a new column cases_per_population is generated. \n",
    "\n",
    "![vector48](images/vector48.png)\n",
    "\n",
    "You can save the new column permanently to the attribute table by clicking on the Toggle Edit mode button\n",
    "\n",
    "![vector49](images/vector49.png)\n",
    "\n",
    "Now you can try creating a new column deaths_per_population\n",
    "\n",
    "**Note**: If you are getting an error while toggling between the edit mode, create a new layer that's the copy of the current layer using the Duplicate Layer function (right click on the current layer to select this option)\n",
    "\n",
    "Now lets try that in Python"
   ]
  },
  {
   "cell_type": "code",
   "execution_count": 76,
   "id": "85976020-0a3b-409b-8ad6-db99ca5f3aa2",
   "metadata": {},
   "outputs": [],
   "source": [
    "#pandas for reading the csv file\n",
    "import pandas as pd\n",
    "data = pd.read_csv(r'../sharedData/covid_cases_and_deaths_total_ohio.csv',dtype={'FIPS':str})\n",
    "#create a new column total_cases_per_population\n",
    "data['total_cases_per_population'] = data['Total Cases']/data['Population']\n",
    "#create a new column total_deaths_per_population\n",
    "data['total_deaths_per_population'] = data['Total Deaths']/data['Population']"
   ]
  },
  {
   "cell_type": "markdown",
   "id": "e5ce92af-e4a1-4f66-a9b1-402ba8ff47e7",
   "metadata": {},
   "source": [
    "How do you map these new attributes (right now we only have attributes)??"
   ]
  },
  {
   "cell_type": "markdown",
   "id": "8b9d9892-9e4b-4273-8d67-b22e33624a61",
   "metadata": {},
   "source": [
    "## Attribute Joins (table joins)\n",
    "\n",
    "For this example, we will use the dataset that we have generated in the last step and Ohio counties shapefile https://cwru.box.com/s/3hl1aflu2m9gvm4ihhtckrrh37d28ai8\n",
    "\n",
    "Open up the attribute table for the Ohio counties shapefile \n",
    "\n",
    "![vector50](images/vector50.png)\n",
    "\n",
    "So you can see there is a FIPS column as well as the county names. If you check the attribute table that we created previously, there is a FIPS as well Countyname column\n",
    "\n",
    "![vector49](images/vector49.png)\n",
    "\n",
    "So if you want to combine the data from the two tables you can use either the FIPS column or county name as the key for merging. For this example we will use FIPS as our key. \n",
    "\n",
    "1) Right click on the counties table and select properties and then select joins.\n",
    "\n",
    "![vector51](images/vector51.png)\n",
    "\n",
    "2) Now click on + button and select the table with total_cases_per_population\n",
    "\n",
    "Select the join field as FIPS and the Target field as FIPS\n",
    "\n",
    "![vector52](images/vector52.png)\n",
    "\n",
    "Now check the attribute table for the Ohio counties. You will see that there are new columns added to the attribute table. \n",
    "\n",
    "![vector53](images/vector53.png)\n",
    "\n",
    "We can create a choropleth map based on the attribute column total_cases_per_population.\n",
    "\n",
    "![vector54](images/vector54.png)\n",
    "\n",
    "Let's try that in Python"
   ]
  },
  {
   "cell_type": "code",
   "execution_count": 77,
   "id": "7f33322b-844b-4712-826c-d9981a54d28d",
   "metadata": {},
   "outputs": [
    {
     "data": {
      "image/png": "[encoded data removed]",
      "text/plain": [
       "<Figure size 432x288 with 1 Axes>"
      ]
     },
     "metadata": {
      "needs_background": "light"
     },
     "output_type": "display_data"
    }
   ],
   "source": [
    "import geopandas as gpd\n",
    "#load the Ohio county data\n",
    "ohio_state = gpd.read_file('../sharedData/Ohio_COUNTY_SVI/SVI2018_OHIO_county.shp')\n",
    "#merge this with the covid data CSV file using FIPS as the key\n",
    "ohio_state_with_totals = ohio_state.merge(data,on='FIPS')\n",
    "ohio_state_with_totals.plot(column='total_cases_per_population', cmap='Reds');"
   ]
  },
  {
   "cell_type": "markdown",
   "id": "6311e368-29da-450e-b2c5-7ce2c422ef42",
   "metadata": {},
   "source": [
    "### Selection by Geography"
   ]
  },
  {
   "cell_type": "markdown",
   "id": "ddec8057-c047-4b5a-b5cd-3d6b609aff83",
   "metadata": {},
   "source": [
    "#### Select using arbitrary shapes (free drawing)\n",
    "\n",
    "For example, you want to select all the hospitals that are in the Columbus area. \n",
    "\n",
    "1. Click on the \"Select Features by Area or Click\"\n",
    "\n",
    "![vector13](images/vector13.png)\n",
    "\n",
    "2. Draw a rectangle around Columbus area.\n",
    "\n",
    "![vector14](images/vector14.png)\n",
    "\n",
    "3. The matching locations will be selected and will be highlighted in yellow\n",
    "\n",
    "![vector15](images/vector15.png)\n",
    "\n",
    "the corresponding changes will be reflected in the attribute table (315 records selected)\n",
    "\n",
    "![vector16](images/vector16.png)\n",
    "\n",
    "Similarly we can select by circles (use the radius option) as well as other shapes\n",
    "\n",
    "\n",
    "If you want to download the selected features only, then right click on the layer and select Export and Save Selected Features As."
   ]
  },
  {
   "cell_type": "markdown",
   "id": "25d425fa-5843-43b5-a97a-e5c7ddca77a7",
   "metadata": {},
   "source": [
    "#### Select using other layers\n",
    "\n",
    "In this example, we will see how two layers can be used for performing a spatial query. We will use Cleveland City boundaries to select the hospitals that lie with in Cleveland City.\n",
    "\n",
    "1. Load the Cleveland City Boundaries data https://cwru.box.com/s/p1lfgqhw1xhi53tbo0e219pni8jk58j7\n",
    "\n",
    "![vector17](images/vector17.png)\n",
    "\n",
    "2. Click on the \"Select By Location\" button\n",
    "\n",
    "![vector18](images/vector18.png)\n",
    "\n",
    "3. For the select features \"from\" drop down select hospitals and select cleveland_city_boundaries for the other. For the predicate, select \"are within\".\n",
    "\n",
    "So by this query we are saying select all records from hospital data that \"are within\" the Cleveland city boundaries\n",
    "\n",
    "![vector19](images/vector19.png)\n",
    "\n",
    "4. Click on Run and once its finished, click on Close. You will see that the hospitals within Cleveland city boundaries are selected\n",
    "\n",
    "![vector20](images/vector20.png)\n",
    "\n",
    "\n",
    "![vector21](images/vector21.png)\n",
    "\n",
    "\n",
    "One more example before we delve into other spatial operations\n",
    "\n",
    "In this example we select all the roads that pass through Cleveland City\n",
    "\n",
    "1. Load the Ohio road dataset https://cwru.box.com/s/za1tj9l66l6qksqv7gwnrillkl7w0evl\n",
    "\n",
    "![vector22](images/vector22.png)\n",
    "\n",
    "2. Now use select location with roads as \"from\" source and Cleveland City Boundary as the other layer. For geometric predicate we have to select intersects\n",
    "\n",
    "Now why do we have to select intersects than within???\n",
    "\n",
    "![vector23](images/vector23.png)\n",
    "\n",
    "3. We can see the roads that intersect with Cleveland boundaries are selected\n",
    "\n",
    "![vector24](images/vector24.png)\n",
    "\n",
    "\n",
    "![vector25](images/vector25.png)"
   ]
  },
  {
   "cell_type": "markdown",
   "id": "405389bf-0fa2-4013-b711-a154cfbc96ec",
   "metadata": {},
   "source": [
    "## Overlay"
   ]
  },
  {
   "cell_type": "markdown",
   "id": "394c230b-1f49-47b1-8c30-ab8b891255bb",
   "metadata": {},
   "source": [
    "Overlays or map overlays refers to a **group of procedures and techniques used in combining information from different data layers**. This is an **important capability of most GIS environments**. Map overlays **involve at least two input layers and result in at least one new output layer**.\n",
    "\n",
    "Let's look at some overlay operations    "
   ]
  },
  {
   "cell_type": "markdown",
   "id": "cc49a2c0-9e45-4699-9057-8ec46db0d34f",
   "metadata": {},
   "source": [
    "### Clipping\n",
    "\n",
    "Clipping takes **one GIS layer (the clip feature) and another GIS layer (the to-be-clipped input feature)**. The **output is a clipped version of the original input layer**. The output **attributes table is a subset of the original attributes table where only records for the clipped polygons are preserved**.\n",
    "\n",
    "Let's look at an example.\n",
    "\n",
    "Clip and extract the roads that are passing through Cleveland City.\n",
    "\n",
    "1. Load the Ohio Roads dataset and the Cleveland City Boundaries\n",
    "\n",
    "![vector26](images/vector26.png)\n",
    "\n",
    "2.Select Clip from Vector Geoprocessing tools\n",
    "\n",
    "![vector27](images/vector27.png)\n",
    "\n",
    "3. Select Ohio_roads as Input Layer and cleveland_city_boundaries as overlay layer\n",
    "\n",
    "After you Run Clip you get a new layer called 'Clipped'\n",
    "\n",
    "![vector28](images/vector28.png)\n",
    "\n",
    "**Note:** When you run clip make sure that both the files are having the same coordinate reference system.\n",
    "\n",
    "Lets try that in Python"
   ]
  },
  {
   "cell_type": "code",
   "execution_count": 78,
   "id": "4bf51faf-9b53-4a79-9e0a-4121d0115867",
   "metadata": {},
   "outputs": [
    {
     "data": {
      "text/plain": [
       "<AxesSubplot:>"
      ]
     },
     "execution_count": 78,
     "metadata": {},
     "output_type": "execute_result"
    },
    {
     "data": {
      "image/png": "[encoded data removed]",
      "text/plain": [
       "<Figure size 432x288 with 1 Axes>"
      ]
     },
     "metadata": {
      "needs_background": "light"
     },
     "output_type": "display_data"
    }
   ],
   "source": [
    "import geopandas as gpd\n",
    "roads = gpd.read_file(r'../sharedData/Ohio_roads/Ohio_roads.shp')\n",
    "clevelandCityBoundaries = gpd.read_file(r'../sharedData/cleveland_city_boundaries/cleveland_city_boundaries.shp')\n",
    "clippedRoads = gpd.clip(roads,clevelandCityBoundaries)\n",
    "ax = clevelandCityBoundaries.plot()\n",
    "clippedRoads.plot(color='green',ax=ax)"
   ]
  },
  {
   "cell_type": "markdown",
   "id": "bd6d7893-4f6e-499a-9d30-3f4ec7cd1c9a",
   "metadata": {},
   "source": [
    "### Point in Polygon Overlay\n",
    "\n",
    "The point-in-polygon overlay operation requires a **point input layer and a polygon overlay layer**. Upon performing this operation, **a new output point layer is returned that includes all the points that occur within the spatial extent of the overlay**. In addition, all the points in the output layer **contain their original attribute information as well as the attribute information from the overlay**. \n",
    "\n",
    "So let's jump into an example. In this example we will assign SVI score to hospital based on the census tract in which its located (potential Ecological Fallacy!!!).\n",
    "\n",
    "1. Download the Ohio SVI census tract data https://cwru.box.com/s/eskcdycjs5gmidzgi8b6wivt27x6tche and the Ohio hospital data from https://cwru.box.com/s/w6raygawlkllg0o42sile9iykiu39xid\n",
    "\n",
    "2. Load the Ohio SVI census tract data and Ohio hospital data.\n",
    "\n",
    "3. Select \"Join Attributes by Location\" from Data Management Tools in Vector\n",
    "\n",
    "![vector29](images/vector29.png)\n",
    "\n",
    "4. For the parameters select Ohio_hospitals as the option for \"Join to features in\" and SVI2018_OHIO_tract as \"comparing to\". Use within as the predicate. Click Run\n",
    "\n",
    "![vector30](images/vector30.png)\n",
    "\n",
    "5. A new layer called Join layer will be created wheer each record is a hospital, and it has additional attributes from the SVI2018_OHIO_tract table\n",
    "\n",
    "![vector31](images/vector31.png)\n",
    "\n",
    "You can further use this layer to find out which all hospitals are located in places with high social vulnerability (may be .8 and above) etc. \n",
    "\n",
    "Now let's try that in Python"
   ]
  },
  {
   "cell_type": "code",
   "execution_count": 79,
   "id": "6cde6675-33f7-4089-9d0f-5624cd507711",
   "metadata": {},
   "outputs": [
    {
     "name": "stderr",
     "output_type": "stream",
     "text": [
      "C:\\Users\\jxa421\\AppData\\Local\\Temp\\ipykernel_43272\\4005004150.py:6: UserWarning: CRS mismatch between the CRS of left geometries and the CRS of right geometries.\n",
      "Use `to_crs()` to reproject one of the input geometries to match the CRS of the other.\n",
      "\n",
      "Left CRS: EPSG:4326\n",
      "Right CRS: EPSG:4269\n",
      "\n",
      "  newlayer = gpd.sjoin(hospitalsGeo,soviCounties)\n"
     ]
    }
   ],
   "source": [
    "import pandas as pd\n",
    "import geopandas as gpd\n",
    "hospitals = pd.read_csv(r'../sharedData/Hospitalsdata.csv',encoding_errors='ignore')\n",
    "soviCounties = gpd.read_file('../sharedData/Ohio_COUNTY_SVI/SVI2018_OHIO_county.shp')\n",
    "hospitalsGeo = gpd.GeoDataFrame(hospitals,geometry=gpd.points_from_xy(hospitals.LONGITUDE,hospitals.LATITUDE),crs='EPSG:4326')\n",
    "newlayer = gpd.sjoin(hospitalsGeo,soviCounties)"
   ]
  },
  {
   "cell_type": "markdown",
   "id": "1c59fda4-a60a-4c35-af21-400292c8c7a2",
   "metadata": {},
   "source": [
    "### Line in Polygon Overlay\n",
    "\n",
    "The line-in-polygon overlay operation is similar to the point-in-polygon overlay, with that obvious exception that a line input layer is used instead of a point input layer. In this case, each line that has any part of its extent within the overlay polygon layer will be included in the output line layer, although these lines will be truncated at the boundary of the overlay."
   ]
  },
  {
   "cell_type": "markdown",
   "id": "8da80884-4786-4694-ba08-eb9b0f894784",
   "metadata": {},
   "source": [
    "### Polygon in Polygon Overlay\n",
    "\n",
    "This is the most commonly used overlay operation. Using this method, the **polygon input and overlay layers are combined to create an output polygon layer with the extent of the overlay. The attribute table will contain spatial data and attribute information from both the input and overlay layers**.\n",
    "\n",
    "Let's see an example. In this example we will use a sample set of parcels from the city of Cleveland and the SVI2018_OHIO_tract dataset. Finally we will assign SVI scores for each parcel\n",
    "\n",
    "1. Download the dataset cleveland_sample_parcel from https://cwru.box.com/s/dnjsi8ifyc831or92jvw56dzk73r1jlw\n",
    "\n",
    "2. Load cleveland_sample_parcel and SVI2018_OHIO_tract to QGIS https://cwru.box.com/s/eskcdycjs5gmidzgi8b6wivt27x6tche\n",
    "\n",
    "3. Now open the \"Join Attributes By Location\" window and then fill in the following details\n",
    "\n",
    "![vector32](images/vector32.png)\n",
    "\n",
    "4. After running, check the attribute column for the new layer called Joined Layer. It will have the details from the SVI2018_OHIO_tract table. No we can assign SOVI scores for each parcel\n",
    "\n",
    "![vector33](images/vector33.png)\n",
    "\n",
    "\n",
    "And lets try that in Python "
   ]
  },
  {
   "cell_type": "code",
   "execution_count": 80,
   "id": "90363cfa-0805-4dde-987e-8a6191dc2876",
   "metadata": {},
   "outputs": [
    {
     "name": "stderr",
     "output_type": "stream",
     "text": [
      "C:\\Users\\jxa421\\AppData\\Local\\Temp\\ipykernel_43272\\2240571300.py:4: UserWarning: CRS mismatch between the CRS of left geometries and the CRS of right geometries.\n",
      "Use `to_crs()` to reproject one of the input geometries to match the CRS of the other.\n",
      "\n",
      "Left CRS: EPSG:4326\n",
      "Right CRS: EPSG:4269\n",
      "\n",
      "  joined = gpd.sjoin(parcelData,svi_tract)\n"
     ]
    }
   ],
   "source": [
    "import geopandas as gpd\n",
    "parcelData = gpd.read_file('../sharedData/cleveland_sample_parcel/cleveland_sample_parcel.shp')\n",
    "svi_tract = gpd.read_file('../sharedData/Ohio_SVI_Census_Tracts/SVI2018_OHIO_tract.shp')\n",
    "joined = gpd.sjoin(parcelData,svi_tract)"
   ]
  },
  {
   "cell_type": "markdown",
   "id": "b4fe3df5-844a-48b5-8148-22d55f010d0c",
   "metadata": {},
   "source": [
    "## Few other Vector Operations"
   ]
  },
  {
   "cell_type": "markdown",
   "id": "6b7a9e32-a794-497c-8032-803140e4b98b",
   "metadata": {},
   "source": [
    "### Buffer\n",
    "\n",
    "Buffers are common vector analysis tools used to address questions of proximity in a GIS and can be used on points, lines, or polygons. It can be used to answer spatial questions like\n",
    "How many houses are there with in 5 km radius of a factory, or a runoff site. \n",
    "\n",
    "Let's look at an example. For this example we will use the cholera deaths dataset and the pump dataset. https://cwru.box.com/s/wcezjkzyri77suujdby65fhcgx5qmvr3\n",
    "\n",
    "1. Load both the datasets to QGIS\n",
    "\n",
    "2. Create a buffer of 100m for the pumps\n",
    "\n",
    "Select buffer from Geoprocessing Tools for Vector\n",
    "\n",
    "![vector34](images/vector34.png)\n",
    "\n",
    "Select Pumps as input layer and 100 meter as buffer distance\n",
    "\n",
    "![vector35](images/vector35.png)\n",
    "\n",
    "A new polygon layer called Buffered will be created. You can rename the layer by right clicking on it and selecting Rename Layer.\n",
    "\n",
    "![vector36](images/vector36.png)\n",
    "\n",
    "3. Now use select by location option with Cholera_Deaths as the \"from\" layer and Buffered as the other layer. Use are within predicate.\n",
    "\n",
    "![vector37](images/vector37.png)\n",
    "\n",
    "After the process we can see the selected locations of cholera deaths that are within 100 meter of any pump.\n",
    "\n",
    "\n",
    "![vector38](images/vector38.png)\n",
    "\n",
    "**Note** For using buffer operation its best to have the layer in projected coordinate system.\n",
    "\n",
    "Now let's try buffering in Python"
   ]
  },
  {
   "cell_type": "code",
   "execution_count": 81,
   "id": "a9f5d397-6c1e-47ca-a347-5296720c01cb",
   "metadata": {},
   "outputs": [],
   "source": [
    "import geopandas as gpd\n",
    "deathLocations = gpd.read_file(r'../sharedData/SnowGIS_SHP/SnowGIS_SHP/SnowGIS_SHP/Cholera_Deaths.shp')\n",
    "pumps = gpd.read_file(r'../sharedData/SnowGIS_SHP/SnowGIS_SHP/SnowGIS_SHP/Pumps.shp')\n",
    "pumpBuffers = gpd.GeoDataFrame(geometry=pumps.buffer(100))\n",
    "deathLocation100meter = gpd.sjoin(deathLocations,pumpBuffers,predicate='within')"
   ]
  },
  {
   "cell_type": "markdown",
   "id": "89b829c6-112c-423e-a4a9-97316085500e",
   "metadata": {},
   "source": [
    "Now what if we want to count how many locations of cholera death with in 500 meter of each pump? For this we use a technique called \"Point in Polygon Count\" which we are going to look in the next section."
   ]
  },
  {
   "cell_type": "markdown",
   "id": "a018a36e-8e2c-489b-b5d9-f6d5b1875eb6",
   "metadata": {},
   "source": [
    "### Point in Polygon Count\n",
    "\n",
    "When you have a polygon layer and a point layer - and want to know how many or which of the points fall within the bounds of each polygon, you can use this method of analysis.\n",
    "\n",
    "Here we will use the cholera and pump dataset. We will try to answer the question we have asked in the last section\n",
    "\n",
    "1. Load the cholera death and pump dataset to QGIS\n",
    "\n",
    "2. Create buffer for pump as previously done.\n",
    "\n",
    "3. Select \"Count Points in Polygon\" from Analysis Tools in Vector\n",
    "\n",
    "![vector39](images/vector39.png)\n",
    "\n",
    "4. Select buffered as Polygons and Cholera_deaths as Points and then click on RUN.\n",
    "\n",
    "![vector40](images/vector40.png)\n",
    "\n",
    "5. The attribute table for the output \"Count\" will have the pumps along with the counts. \n",
    "\n",
    "![vector41](images/vector41.png)\n",
    "\n",
    "Now let's look at a more involved example. Here we will generate a choropleth map for number of hospitals in Ohio counties.\n",
    "\n",
    "1. Load the Ohio hospital and SVI2018_OHIO_county data\n",
    "\n",
    "2. Run \"Count Points in Polygon\" with SVI2018_OHIO_county as Polygon and Ohio_hospitals as points.\n",
    "\n",
    "3. The new layer Count will have the counties with the additional NUMPOINTS column.\n",
    "\n",
    "4. Right click on the layer, select symbology, and type as Graduated and select value as NUMPOINTS. Choose a color ramp and use Equal Interval as mode with 5 classes.\n",
    "\n",
    "Voilaaa!!! You have a new choropleth map indicating the spatial distribution of hospitals. \n",
    "\n",
    "![vector42](images/vector42.png)\n",
    "\n",
    "\n",
    "Now can you repeat it with Census Tracts for Ohio?"
   ]
  },
  {
   "cell_type": "markdown",
   "id": "3657a193-b1cd-461b-8c9d-c7f3c939d52e",
   "metadata": {},
   "source": [
    "Let's try point in Polygon for the pump data in Python"
   ]
  },
  {
   "cell_type": "code",
   "execution_count": 82,
   "id": "98b2d1cb-4834-4e78-88e8-aaf419dd0a82",
   "metadata": {},
   "outputs": [],
   "source": [
    "import geopandas as gpd\n",
    "deathLocations = gpd.read_file(r'../sharedData/SnowGIS_SHP/SnowGIS_SHP/SnowGIS_SHP/Cholera_Deaths.shp')\n",
    "pumps = gpd.read_file(r'../sharedData/SnowGIS_SHP/SnowGIS_SHP/SnowGIS_SHP/Pumps.shp')\n",
    "pumpBuffers = gpd.GeoDataFrame(geometry=pumps.buffer(100))\n",
    "deathLocation100meter = gpd.sjoin(deathLocations,pumpBuffers,predicate='within')\n",
    "deathLocation100meterTotals = deathLocation100meter[['index_right']].value_counts().reset_index()\n",
    "deathLocation100meterTotals.columns=['pumpnumber','count']"
   ]
  },
  {
   "cell_type": "markdown",
   "id": "ec031b72-5dbb-492c-a682-b84aa9a4ddf3",
   "metadata": {
    "tags": []
   },
   "source": [
    "In this chapter we looked at commonly used Vector operations. There are many more (Union, Intersection, Delaunay  Triangulation, Voronoi Polygons) and I would strongly urge you to look at them. In the next chapter we will look into raster operations."
   ]
  }
 ],
 "metadata": {
  "kernelspec": {
   "display_name": "Python 3 (ipykernel)",
   "language": "python",
   "name": "python3"
  },
  "language_info": {
   "codemirror_mode": {
    "name": "ipython",
    "version": 3
   },
   "file_extension": ".py",
   "mimetype": "text/x-python",
   "name": "python",
   "nbconvert_exporter": "python",
   "pygments_lexer": "ipython3",
   "version": "3.9.7"
  }
 },
 "nbformat": 4,
 "nbformat_minor": 5
}
