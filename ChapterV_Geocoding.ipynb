{
 "cells": [
  {
   "cell_type": "markdown",
   "id": "d9d26b59-ab6d-458c-bd5c-b292153ee576",
   "metadata": {},
   "source": [
    "# Geocoding (Mapping your Address)\n",
    "\n",
    "![gcod1](images/gcod1.jpg)"
   ]
  },
  {
   "cell_type": "markdown",
   "id": "ad45d88c-2166-4a4e-987b-072c397a0162",
   "metadata": {},
   "source": [
    "## Where do you find Addresses\n",
    "\n",
    "1. When you are posting something.\n",
    "\n",
    "![gcod2](images/gcod2.jpg)\n",
    "\n",
    "2. When you are using GPS (Driving to a new place)\n",
    "\n",
    "![gcod3](images/gcod3.jpg)\n",
    "\n",
    "3. When you are using google maps\n",
    "\n",
    "![gcod4](images/gcod4.png)\n",
    "\n",
    "4. When you are using social media platforms (Twitter, Facebook)\n",
    "\n",
    "![gcod5](images/gcod5.jpg)\n",
    "\n",
    "5. If you are working in a hospital facility you might have interacted with the EHR\n",
    "\n",
    "![gcod6](images/gcod6.jpg)\n",
    "\n",
    "6. You would have seen addresses in Flyers\n",
    "\n",
    "![gcod7](images/gcod7.jpg)\n",
    "\n",
    "7. Or even in newspapers\n",
    "\n",
    "![gcod8](images/gcod8.png)\n",
    "\n",
    "Can you think about other sources of addresses that you have encountered before???"
   ]
  },
  {
   "cell_type": "markdown",
   "id": "f9cf9d85-c6c7-4428-8e61-4a813564813c",
   "metadata": {},
   "source": [
    "## Are Addresses directly Mappable?"
   ]
  },
  {
   "cell_type": "markdown",
   "id": "641c900a-f014-4eaa-9b40-c96d67a70e50",
   "metadata": {},
   "source": [
    "Let's try it out!!\n",
    "\n",
    "1. Download your data.\n",
    "\n",
    "Download your address data for the Zip code 44106 from https://cwru.box.com/s/67xgaxniymjuboabxt2m2xf1mr4sj4aa\n",
    "\n",
    "2. Load the CSV data to QGIS (we have done this in the last chapter) \n",
    "\n",
    "![geocode](images/geocode.png)\n",
    "\n",
    "But unfortunately we don't have any columns that have coordinates. So we have to select *No geometry* option radio button\n",
    "\n",
    "![geocode1](images/geocode1.png)\n",
    "\n",
    "And when we add it, there is just a table in the layer window and the addresses are not mapped. \n",
    "\n",
    "![geocode2](images/geocode2.png)\n",
    "\n",
    "So how do we map these addresses (Hint!!!The name of this chapter)"
   ]
  },
  {
   "cell_type": "markdown",
   "id": "c6217a57-e9d5-4fce-8d3d-2f7312d18380",
   "metadata": {},
   "source": [
    "## What is geocoding?\n",
    "\n",
    ">Geocoding is the process of **transforming a description of a location—such as a pair of coordinates, an address, or a name of a place—to a location on the earth's surface**. \n",
    "\n",
    "Ok let's look into a more simpler definition. \n",
    "\n",
    "> Geocoding takes an **address as input, then translates it to a location on a map**. In short, it **changes an address to lat long coordinates (latitude and longitude)**.\n",
    "\n",
    "![gcod9](images/gcod9.png)"
   ]
  },
  {
   "cell_type": "markdown",
   "id": "80c24920-80bb-416c-865f-07f990cb118e",
   "metadata": {},
   "source": [
    "## What are geocodes?\n",
    "\n",
    "> Geocodes are a **set of latitude and longitude coordinates of a physical location**.\n"
   ]
  },
  {
   "cell_type": "markdown",
   "id": "28cca971-c4ce-4f58-a984-67da3cc803d2",
   "metadata": {},
   "source": [
    "## Types of Geographic Location Descriptions that can be geocoded\n",
    "\n",
    "1. Addresses\n",
    "\n",
    "This is the most common source of input for geocoding. \n",
    "\n",
    "12471 Cedar Rd, Cleveland Heights, Ohio 44106\n",
    "\n",
    "2. Place Names\n",
    "\n",
    "Place Names are hard to resolve and hence hard to geocode. Most of the current geocoders doesnot handle place names better. However geocoding services provided by vendors such as Google, Bing, and Baidu are very good at handling place names. \n",
    "\n",
    "The Eiffel Tower"
   ]
  },
  {
   "cell_type": "markdown",
   "id": "ce44b1b5-03aa-4f94-983c-85143e1c55dd",
   "metadata": {},
   "source": [
    "Now let's get our hand dirty!!"
   ]
  },
  {
   "cell_type": "markdown",
   "id": "56741ef0-ab58-47b4-82f4-ef9fa74dc862",
   "metadata": {},
   "source": [
    "## Time to Geocode"
   ]
  },
  {
   "cell_type": "markdown",
   "id": "d028d81c-34b0-4ca2-9726-904e59753d8e",
   "metadata": {},
   "source": [
    "For geocoding  in QGIS we would need a plugin called MMQGIS (its a onetime installation). \n",
    "\n",
    "1. Install MMQGIS plugin (this is a onetime installation)\n",
    "\n",
    "Select the plugin drop down from the menu bar and select the \"Manage and Install Plugins\" option\n",
    "\n",
    "![geocode3](images/geocode3.png)\n",
    "\n",
    "Search for MMQGIS and install it. \n",
    "\n",
    "![geocode4](images/geocode4.png)\n",
    "\n",
    "Now you should see the MMQGIS drop down in the menu bar\n",
    "\n",
    "![geocode5](images/geocode5.png)\n",
    "\n",
    "2. Select Geocode and Geocode CSV with webservice from MMQGIS\n",
    "\n",
    "![geocode6](images/geocode6.png)\n",
    "\n",
    "3. Select the CSV file that we have loaded earlier and populate the necessary fields\n",
    "\n",
    "We are using OpenStreetMap as its free (US Census Bureau is also free). You can also select the location and the filename you want for the output. The output will be a shapefile for the ones that are successfully geocoded and a csv file for the ones that are not geocoded.\n",
    "\n",
    "![geocode7](images/geocode7.PNG)\n",
    "\n",
    "4. Click on Apply and then wait for geocoding to finish. \n",
    "\n",
    "You can see the total number of addresses that needs to be geocoded and the ones that are successfully geocoded in the progress bar. In our case there were 99 addresses out of which 64 were geocoded to a location (64%) (which is very poor!!) and 35 addresses didn't have a valid geocode. The one's that are not geocoded are saved to a new csv file which can be further investigated up on. \n",
    "\n",
    "![geocode8](images/geocode8.PNG)\n",
    "\n",
    "Once the geocoding is completed there will be a new layer in our layer window and our map layer will have the geocoded points\n",
    "\n",
    "![geocode9](images/geocode9.PNG)\n",
    "\n",
    "We can try with census bureau geocoder too which should geocode 96 out of 99 locations (96%). \n",
    "\n",
    "You can open the attribute table for the new layer that was created and can explore the various fields that were added as result of the geocoding. \n",
    "\n",
    "Yay!!!!!that's our first venture into geocoding.....\n",
    "\n",
    "But are we satisfied  with our results. What is the additional thing we need to be aware of. "
   ]
  },
  {
   "cell_type": "markdown",
   "id": "d3edf470-c6e1-4fb1-932a-9a29dd8572e3",
   "metadata": {},
   "source": [
    "## Accuracy"
   ]
  },
  {
   "cell_type": "markdown",
   "id": "45d13196-4d16-4f6f-a776-e0bbdfa02ca7",
   "metadata": {},
   "source": [
    "One of the key metric for assessing the result of a geocoding task is \"Accuracy\". If you examine the attribute table of the new layer that was created as a result of the geocoding task you could see that there is no attribute that shows the geocoding accuracy. \n",
    "\n",
    "To highlight the issue lets see an example\n",
    "\n",
    "Download the data from https://cwru.box.com/s/li6p5m9ta9yt56kot3ici2lexgx7acd5\n",
    "\n",
    "It has 4 addresses. The real address is 2439 Overlook Rd, Cleveland, OH\n",
    "\n",
    "The address with id 1 is the right address, while address corresponding to id 2 (243999 Overlook Rd Overlook Rd) doesn't exist. Address for id 3 has a typo (2439 Ovrlook Rd), while the address for id 4 (2439 Overlook Rd, Kent) has the wrong city and hence is non-existent.\n",
    "\n",
    "If you run geocoding using Open Street geocoding service, you will find that two locations are geocoded. If you open the attribute table for the geocode you will find that while Address 2439 Overlook Rd, Cleveland, OH is correctly matched, the address 243999 Overlook Rd Overlook Rd is matched to Overlook Rd, Cleveland, OH (which is a street segment). The difference can be noticed in the \"category\" and \"type\" columns too. While the correct address has category as \"place\" and type as \"house\", the supposedly wrong address has category as \"highway\" and type as \"residential\". These columns could be a potential filter to weed out the inaccurate results. \n",
    " \n",
    "![geocode10](images/geocode10.PNG)\n",
    "\n",
    "If you run geocoding with Census Bureau, again you will have two locations geocoded. But this time one of the result is for the misspelled address (2439 Ovrlook Rd). In this case Census Bureau geocoding has rightly identified the misspelled address (2439 Ovrlook Rd) as 2439 Overlook Rd (from the \"matchedAdd\" column), which is actually great!!. \n",
    "\n",
    "![geocode11](images/geocode11.PNG)\n",
    "\n",
    "\n",
    "This simple experiment shows some interesting facts about accuracy of geocoders\n",
    "\n",
    "1. Geocoding results vary with geocoding services.\n",
    "\n",
    "2. Data entry errors such as typos are much efficiently handled by some geocoders than others.\n",
    "\n",
    "3. Without a metric for accuracy it would be foolhardy to completely rely on geocoding results. The geocoders can silently generate inaccurate results without any warnings. For example, geocoders can assign the geocode of an address to a street/zip or even a state centroid without any warning. "
   ]
  },
  {
   "cell_type": "markdown",
   "id": "5e43b4d8-2ecb-426d-91d8-73a485281c63",
   "metadata": {},
   "source": [
    "## Various levels of Geocode"
   ]
  },
  {
   "cell_type": "markdown",
   "id": "f7d33f81-9252-40e4-ae95-614346b6afec",
   "metadata": {},
   "source": [
    "A coordinate can be assigned to an address based on various level of information a geocoder has\n",
    "\n",
    "1. Rooftop Geocodes\n",
    "\n",
    "It is the most accurate geocode type and provides the exact location for the address.\n",
    "\n",
    "![gcod10](images/gcod10.png)\n",
    "\n",
    "2. Parcel Centroid Geocodes\n",
    "\n",
    "In this case the address is assigned to the centroid of the parcel boundary for the property. *\"A 'parcel', 'lot', or 'tract' is a piece of land (or 'real property') with defined boundaries. \"*. This is also relatively accurate. \n",
    "\n",
    "![gcod11](images/gcod11.png)\n",
    "\n",
    "3. Interpolated Geocodes\n",
    "\n",
    "Interpolation methods uses information about address number ranges to estimate the position of a numbered address. For example there is no direct address match for the location 1149 38th St, Sacramento, California, 95816. But if the geocoder has the street segment (which is a line segment) geometry with it and if the address range of 38 street starts from 1001 and ends at 1299, the geocoder will assign the center point of the street line as the geocode for 1149 38th St, Sacramento, California, 95816.\n",
    "\n",
    "Is that accurate???. Well it depends up on what level of accuracy you are looking for.\n",
    "\n",
    "![gcod12](images/gcod12.png)\n",
    "\n",
    "4. Zip Geocode\n",
    "\n",
    "In this type of geocode, the address is assigned to the centroid of Zip code polygon that it resides in. For example if the geocoder is not able to geocode the address 2439 Overlook Rd, Cleveland,Ohio,44106, it can assign the address to the centroid of the Zip code polygon for 44106. This type of approach has a very low accuracy and users should be aware of such assignments.\n",
    "\n",
    "![gcod13](images/gcod13.png)"
   ]
  },
  {
   "cell_type": "markdown",
   "id": "804884bd-a054-4ab3-b066-7d73f2ff37fd",
   "metadata": {},
   "source": [
    "## Geocoding Pitfalls and Remedies"
   ]
  },
  {
   "cell_type": "markdown",
   "id": "d7a3be99-ebba-4698-9a9d-dc5a8c8dc3cf",
   "metadata": {},
   "source": [
    "As we have seen, Geocoding Accuracy is arbitrary. There is no one answer for how accurate geocoding is because there are several factors that you need to consider before you can accurately answer this question.\n",
    "\n",
    "The level of geocoding accuracy you need depends up on many factors,\n",
    "\n",
    "1. If you want to identify clusters of a particular infectious disease and notify first responders, then you need good geocoding accuracy. You also want to make sure that you don't loose much of valuable information by tossing away records that are not geocoded. \n",
    "\n",
    "A problem with geocodes such as zip centroid is that it can generate \"spurious clusters\" during analysis. For example if a geocoder is matching many addresses to a zip code centroid for the zip code 44106, then there would be a sudden increase of cases at the zip code centroid which will raise a false alarm (such issues are very common in EHR databases).\n",
    "\n",
    "\n",
    "2. Use of **remote geocoding webservices can be a violation of privacy rules for health data.**\n",
    "\n",
    "If you are using remote webservices (which sends request via internet) for geocoding, you are sending health data (which is supposed to highly confidential) over the wire (internet). The organization that is providing the geocoding service can collect the addresses as well as other private information from such requests. \n",
    "\n",
    "The work around will be to use standalone geocoder, where the address database sits locally or at a secure research location. Such kind of standalone geocoders are provided by ArcGIS (needs license) or you can build your own geocoding service using a readily available data source like the Tiger Line files and a database like PostgreSQL  \n",
    "\n",
    "\n",
    "3. Tossing records that doesn't have geocode when data is at a premium.\n",
    "\n",
    "If you are looking at a rather new and complex disease that is spread only among a few people, you would not want to toss out records that doesn't have a geocode, rather you could try multiple geocoders (depending up on your budget) to extract out the geocode. \n",
    "\n",
    "\n",
    "4. If you just want to aggregate the addresses at zip code level and if the addresses already have a zip code number, you don't even need to perfrom the relatively costly geocoding. \n",
    "\n",
    "You can directly extract out the zip code number from the address and at a later point merge it to a zip code polygon that has the zip code number as its attribute ( we will look into such table based merges in the upcoming sessions). \n"
   ]
  },
  {
   "cell_type": "markdown",
   "id": "e7d43b90-5ae3-4e78-b1b6-58542c1deae5",
   "metadata": {},
   "source": [
    "A quick look at how we can geocode using Python (for Pythonista)"
   ]
  },
  {
   "cell_type": "code",
   "execution_count": 1,
   "id": "56fe4621-a859-460f-9d7f-ec72e739581a",
   "metadata": {},
   "outputs": [],
   "source": [
    "import geopandas as gpd\n",
    "#the addresses to geocode\n",
    "toGeocode=gpd.read_file(r'../sharedData/Address_Zip_44106_small.csv')\n",
    "# concatenate the fields together\n",
    "toGeocode['fullAddress'] = toGeocode['Address']+','+toGeocode['CITY']+','+toGeocode['REGION']+','+toGeocode['POSTCODE'].astype(str)\n",
    "#get the geocoded address as geodataframe\n",
    "geoCoded = gpd.tools.geocode(toGeocode.fullAddress)"
   ]
  },
  {
   "cell_type": "code",
   "execution_count": 2,
   "id": "ae820735-3df8-4fbc-bfe4-3f96d4be5aaf",
   "metadata": {},
   "outputs": [
    {
     "name": "stdout",
     "output_type": "stream",
     "text": [
      "                      geometry  \\\n",
      "0   POINT (-81.59933 41.50950)   \n",
      "1   POINT (-81.59578 41.49795)   \n",
      "2   POINT (-81.59933 41.50950)   \n",
      "3   POINT (-81.59933 41.50950)   \n",
      "4   POINT (-81.60100 41.49654)   \n",
      "..                         ...   \n",
      "94  POINT (-81.60241 41.51422)   \n",
      "95  POINT (-81.60241 41.51422)   \n",
      "96  POINT (-81.60241 41.51422)   \n",
      "97  POINT (-81.60070 41.50139)   \n",
      "98  POINT (-81.60532 41.50000)   \n",
      "\n",
      "                                              address  \n",
      "0   East 120th Street, 44106, Cleveland, Ohio, Uni...  \n",
      "1   Delaware Drive, 44106, Cleveland Heights, Ohio...  \n",
      "2   East 120th Street, 44106, Cleveland, Ohio, Uni...  \n",
      "3   East 120th Street, 44106, Cleveland, Ohio, Uni...  \n",
      "4   Denton Drive, 44106, Cleveland Heights, Ohio, ...  \n",
      "..                                                ...  \n",
      "94  East 118th Street, 44106, Cleveland, Ohio, Uni...  \n",
      "95  East 118th Street, 44106, Cleveland, Ohio, Uni...  \n",
      "96  East 118th Street, 44106, Cleveland, Ohio, Uni...  \n",
      "97  Case Western Reserve University, 10900, Mather...  \n",
      "98  Cedar–University, Cedar Avenue, 44106, Cedar A...  \n",
      "\n",
      "[99 rows x 2 columns]\n"
     ]
    }
   ],
   "source": [
    "print (geoCoded)"
   ]
  },
  {
   "cell_type": "code",
   "execution_count": 3,
   "id": "16da727d-c900-4f8a-8c6b-8abeed3e3dcc",
   "metadata": {},
   "outputs": [
    {
     "data": {
      "image/png": "[encoded data removed]",
      "text/plain": [
       "<Figure size 432x288 with 1 Axes>"
      ]
     },
     "metadata": {
      "needs_background": "light"
     },
     "output_type": "display_data"
    }
   ],
   "source": [
    "geoCoded.plot();"
   ]
  },
  {
   "cell_type": "markdown",
   "id": "d58e2f3f-e719-4924-8898-c7dcdc50a695",
   "metadata": {},
   "source": [
    "# Coordinate System and Projections"
   ]
  },
  {
   "cell_type": "markdown",
   "id": "3816477b-5bbe-418a-ad59-b4387d67ad3f",
   "metadata": {},
   "source": [
    "![gcod14](images/gcod14.png)"
   ]
  },
  {
   "cell_type": "markdown",
   "id": "fe553234-7f27-4cbe-9cd0-6115be833f48",
   "metadata": {},
   "source": [
    "## The shape of earth\n",
    "\n",
    "Is it a <h4>Circle???</h4>\n",
    "\n",
    "![gcod15](images/gcod15.jpg)\n",
    "\n",
    "Or is it a <h4>Sphere???</h4>\n",
    "\n",
    "![gcod16](images/gcod16.jpg)\n",
    "\n",
    "It's actually <h4>Oblate Spheroid</h4> <b>bulges at equator and squashed at poles</b>\n",
    "\n",
    "![gcod17](images/gcod17.jpg)\n",
    "\n",
    "\n",
    "But for easing mathematical formulations scientists have represented Earth using an Ellipsoidal model. \n",
    "\n",
    "![gcod18](images/gcod18.png)"
   ]
  },
  {
   "cell_type": "markdown",
   "id": "6608b04b-cdeb-4e66-83e6-bdb19901826f",
   "metadata": {},
   "source": [
    "## Latitude and Longitude\n",
    "\n",
    "Latitude lines run east-west and are parallel to each other. If you go north, latitude values increase. Finally, latitude values (Y-values) range between -90 and +90 degrees.\n",
    "\n",
    "Longitude lines run north-south. They converge at the poles. And its X-coordinates are between -180 and +180 degrees.\n",
    "\n",
    "\n",
    "![gcod19](images/gcod19.png)"
   ]
  },
  {
   "cell_type": "markdown",
   "id": "84435d24-3208-41e7-b76b-52202d34a53d",
   "metadata": {},
   "source": [
    "## What are Map Projections?"
   ]
  },
  {
   "cell_type": "markdown",
   "id": "49a1fa33-0763-483b-85b0-e4f39de4346b",
   "metadata": {},
   "source": [
    "While it's best to represent earth as a sphere, flattening them out to two dimensions is more convenient for map making and measuring distances.\n",
    "\n",
    "![gcod20](images/gcod20.png)\n",
    "\n",
    "**So map projections are used to flatten out the representation of earth to two dimensions.**\n",
    "\n",
    "But there is a catch, **you can't represent the earth surface in two dimensions with out any distortions (in distance, direction, scale, and area)**. \n",
    "\n",
    "\n",
    "An easy way to visualize a map projection is to think of peeling an orange and flattening it out. \n",
    "\n",
    "![gcod21](images/gcod21.png)"
   ]
  },
  {
   "cell_type": "markdown",
   "id": "50013f5b-2541-4552-bbae-9678446777e1",
   "metadata": {},
   "source": [
    "## Types of Map Projections"
   ]
  },
  {
   "cell_type": "markdown",
   "id": "13c2c377-ffc4-4078-8e59-25a35f75ace3",
   "metadata": {},
   "source": [
    "Map projections take developable surfaces such as cylinders, cones, and planes."
   ]
  },
  {
   "cell_type": "markdown",
   "id": "3e6e0c70-7057-4546-bffb-67e93f380ba5",
   "metadata": {},
   "source": [
    "### Conic Projections\n",
    "\n",
    "When you place a cone on the Earth and unwrap it, this results in a conic projection. \n",
    "\n",
    "![gcod22](images/gcod22.png)\n",
    "\n",
    "**Good for mapping long east-west regions because distortion is constant along common parallels**.\n",
    "\n",
    "Scale is preserved while the area is distorted. \n",
    "\n",
    "In general, distortion increases north and south of the standard parallel. **Distortion at the poles is so extreme that many maps that use conic projections remove the polar regions**. \n",
    "\n",
    "![gcod23](images/gcod23.png)\n",
    "\n",
    "Some commonly used conic projections include Albers Equal Area Conic and the Lambert Conformal Conic "
   ]
  },
  {
   "cell_type": "markdown",
   "id": "acb3eecb-9e02-401f-a415-b86868b72248",
   "metadata": {},
   "source": [
    "### Cylindrical Projections"
   ]
  },
  {
   "cell_type": "markdown",
   "id": "077da89f-c612-4422-8062-7f76eed8fcd8",
   "metadata": {},
   "source": [
    "When you place a cylinder around a globe and unravel it, you get the cylindrical projection.\n",
    "\n",
    "![gcod24](images/gcod24.png)\n",
    "\n",
    "In cylindrical projections the north is always facing up (which is good!!). It greatly inflates the artic region. \n",
    "\n",
    "![gcod25](images/gcod25.png)\n",
    "\n",
    "Some common examples of cylindrical projections include Mercator, Miller, and many of the State Plane Coordinate System. "
   ]
  },
  {
   "cell_type": "markdown",
   "id": "d052d1ca-3dfc-4b8e-bb04-aad7cf8be3c4",
   "metadata": {},
   "source": [
    "A cool video on the issues of Projection"
   ]
  },
  {
   "cell_type": "code",
   "execution_count": 1,
   "id": "0381c2c7-6c2f-4ab7-acba-169c8ee2a603",
   "metadata": {},
   "outputs": [
    {
     "data": {
      "image/jpeg": "[encoded data removed]",
      "text/html": [
       "\n",
       "        <iframe\n",
       "            width=\"400\"\n",
       "            height=\"300\"\n",
       "            src=\"https://www.youtube.com/embed/KUF_Ckv8HbE\"\n",
       "            frameborder=\"0\"\n",
       "            allowfullscreen\n",
       "            \n",
       "        ></iframe>\n",
       "        "
      ],
      "text/plain": [
       "<IPython.lib.display.YouTubeVideo at 0x274b1e64a90>"
      ]
     },
     "execution_count": 1,
     "metadata": {},
     "output_type": "execute_result"
    }
   ],
   "source": [
    "from IPython.lib.display import YouTubeVideo\n",
    "YouTubeVideo('KUF_Ckv8HbE')"
   ]
  },
  {
   "cell_type": "markdown",
   "id": "bbce006a-b1fb-4075-8b00-32af25bed793",
   "metadata": {},
   "source": [
    "### Map Projections and Coordinate Systems (Real Examples)"
   ]
  },
  {
   "cell_type": "markdown",
   "id": "6cc7cfb0-35f5-43dd-acef-3eb0856c583f",
   "metadata": {},
   "source": [
    "1. **Geographical Coordinates** (No Projection) Latitude and Longitude\n",
    "\n",
    "Load up the csv file https://cwru.box.com/s/e61anmbcxhits2oisk6ir5mnrhlc621i   in QGIS\n",
    "\n",
    "Right click on the layer and select properties and then select information. Check coordinate reference system and you can see that the reference system is EPSG:4326 - WGS 84 and units in Geographic (uses latitude and longitude for coordinates) (degrees)\n",
    "\n",
    "![gcod26](images/gcod26.png)\n",
    "\n",
    "\n",
    "2. **Projected Coordinates**\n",
    "\n",
    "Load up the shapefile https://cwru.box.com/s/lex859rjwhu2g4v0gj5cp51cvc15j8jw in QGIS\n",
    "\n",
    "Again Right click on the layer and check the coordinate reference system\n",
    "\n",
    "![gcod27](images/gcod27.png)\n",
    "\n",
    "This time you will see that the reference system is EPSG:3857 Psuedo Mercator and the units are **in meters**. \n",
    "\n",
    "Coordinate systems and projections are very important when you are working with multiple layers. When using multiple layers for analysis the coordinate system for the layers should be the same. For methods such as spatial interpolation and Kernel Density estimate (we will cover in later chapters), its better to use projected coordinate system. \n",
    "\n",
    "Let us open the files in Python and check the reference system"
   ]
  },
  {
   "cell_type": "code",
   "execution_count": 21,
   "id": "819025ea-c0ad-49a8-9616-bce25b0b0a7d",
   "metadata": {},
   "outputs": [
    {
     "name": "stdout",
     "output_type": "stream",
     "text": [
      "epsg:3857\n"
     ]
    }
   ],
   "source": [
    "import geopandas as gpd\n",
    "data = gpd.read_file('../sharedData/earthquake_above_4.5_projected/earthquake_above_4.5_projected.shp')\n",
    "print (data.crs)"
   ]
  },
  {
   "cell_type": "markdown",
   "id": "6fd69ae2-1382-4efb-9fcd-4854e36dd890",
   "metadata": {},
   "source": [
    "3. Converting between coordinate system\n",
    "\n",
    "Open the shapefile https://cwru.box.com/s/lex859rjwhu2g4v0gj5cp51cvc15j8jw in QGIS\n",
    "\n",
    "Select Vector -> Data Management Tools -> Reproject Layer\n",
    "\n",
    "Select Target CRS as 4326  (so we are Re-projecting from 3857 to 4326)\n",
    "\n",
    "![gcod28](images/gcod28.png)\n",
    "\n",
    "Click on run, and a new file will be created (with a name Reprojected)\n",
    "\n",
    "You can check the projected coordinate system for the file and verify whether its the Geographic Coordinate System (4326)\n",
    "\n",
    "Now let's try this in Python"
   ]
  },
  {
   "cell_type": "code",
   "execution_count": 18,
   "id": "7461c8b4-e744-49b8-9f84-2ebb14477dda",
   "metadata": {},
   "outputs": [
    {
     "name": "stdout",
     "output_type": "stream",
     "text": [
      "epsg:3857\n",
      "EPSG:4326\n"
     ]
    }
   ],
   "source": [
    "import geopandas as gpd\n",
    "data = gpd.read_file('../sharedData/earthquake_above_4.5_projected/earthquake_above_4.5_projected.shp')\n",
    "print (data.crs)\n",
    "dataNew = data.to_crs('EPSG:4326')\n",
    "print (dataNew.crs)"
   ]
  },
  {
   "cell_type": "code",
   "execution_count": 19,
   "id": "2c4f43aa-b25b-4f3d-b438-0ed686219a38",
   "metadata": {},
   "outputs": [
    {
     "data": {
      "text/plain": [
       "<AxesSubplot:>"
      ]
     },
     "execution_count": 19,
     "metadata": {},
     "output_type": "execute_result"
    },
    {
     "data": {
      "image/png": "[encoded data removed]",
      "text/plain": [
       "<Figure size 432x288 with 1 Axes>"
      ]
     },
     "metadata": {
      "needs_background": "light"
     },
     "output_type": "display_data"
    }
   ],
   "source": [
    "data.plot()"
   ]
  },
  {
   "cell_type": "code",
   "execution_count": 20,
   "id": "b38aacd3-834c-408d-92af-7ac172c1d2f0",
   "metadata": {},
   "outputs": [
    {
     "data": {
      "text/plain": [
       "<AxesSubplot:>"
      ]
     },
     "execution_count": 20,
     "metadata": {},
     "output_type": "execute_result"
    },
    {
     "data": {
      "image/png": "[encoded data removed]",
      "text/plain": [
       "<Figure size 432x288 with 1 Axes>"
      ]
     },
     "metadata": {
      "needs_background": "light"
     },
     "output_type": "display_data"
    }
   ],
   "source": [
    "dataNew.plot()"
   ]
  }
 ],
 "metadata": {
  "kernelspec": {
   "display_name": "Python 3 (ipykernel)",
   "language": "python",
   "name": "python3"
  },
  "language_info": {
   "codemirror_mode": {
    "name": "ipython",
    "version": 3
   },
   "file_extension": ".py",
   "mimetype": "text/x-python",
   "name": "python",
   "nbconvert_exporter": "python",
   "pygments_lexer": "ipython3",
   "version": "3.9.7"
  }
 },
 "nbformat": 4,
 "nbformat_minor": 5
}
