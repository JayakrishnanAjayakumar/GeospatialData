{
 "cells": [
  {
   "cell_type": "markdown",
   "id": "d9d26b59-ab6d-458c-bd5c-b292153ee576",
   "metadata": {},
   "source": [
    "# Geocoding (Mapping your Address)\n",
    "\n",
    "TODO: A funny yet thoughtful picture of geocoding"
   ]
  },
  {
   "cell_type": "markdown",
   "id": "ad45d88c-2166-4a4e-987b-072c397a0162",
   "metadata": {},
   "source": [
    "## Where do you find Addresses\n",
    "\n",
    "1. When you are posting something.\n",
    "\n",
    "TODO:Picture\n",
    "\n",
    "2. When you are using GPS (Driving to a new place)\n",
    "\n",
    "TODO:Picture\n",
    "\n",
    "3. When you are using google maps\n",
    "\n",
    "TODO:Picture\n",
    "\n",
    "4. When you are using social media platforms (Twitter, Facebook)\n",
    "\n",
    "TODO:Picture\n",
    "\n",
    "5. If you are working in a hospital facility you might have interacted with the EHR\n",
    "\n",
    "TODO:Picture\n",
    "\n",
    "6. You would have seen addresses in Flyers\n",
    "\n",
    "TODO:Picture\n",
    "\n",
    "7. Or even in newspapers\n",
    "\n",
    "TODO:Newspapers reporting crime.\n",
    "\n",
    "Can you think about other sources of addresses that you have encountered before???"
   ]
  },
  {
   "cell_type": "markdown",
   "id": "f9cf9d85-c6c7-4428-8e61-4a813564813c",
   "metadata": {},
   "source": [
    "## Are Addresses directly Mappable?"
   ]
  },
  {
   "cell_type": "markdown",
   "id": "641c900a-f014-4eaa-9b40-c96d67a70e50",
   "metadata": {},
   "source": [
    "Let's try it out!!\n",
    "\n",
    "1. Download your data.\n",
    "\n",
    "Download your address data for the Zip code 44106 from https://cwru.box.com/s/67xgaxniymjuboabxt2m2xf1mr4sj4aa\n",
    "\n",
    "2. Load the CSV data to QGIS (we have done this in the last chapter) \n",
    "\n",
    "![geocode](images/geocode.PNG)\n",
    "\n",
    "But unfortunately we don't have any columns that have coordinates. So we have to select *No geometry* option radio button\n",
    "\n",
    "![geocode1](images/geocode1.PNG)\n",
    "\n",
    "And when we add it, there is just a table in the layer window and the addresses are not mapped. \n",
    "\n",
    "![geocode2](images/geocode2.PNG)\n",
    "\n",
    "So how do we map these addresses (Hint!!!The name of this chapter)"
   ]
  },
  {
   "cell_type": "markdown",
   "id": "c6217a57-e9d5-4fce-8d3d-2f7312d18380",
   "metadata": {},
   "source": [
    "## What is geocoding?\n",
    "\n",
    ">Geocoding is the process of **transforming a description of a location—such as a pair of coordinates, an address, or a name of a place—to a location on the earth's surface**. \n",
    "\n",
    "Ok let's look into a more simpler definition. \n",
    "\n",
    "> Geocoding takes an **address as input, then translates it to a location on a map**. In short, it **changes an address to lat long coordinates (latitude and longitude)**.\n",
    "\n",
    "TODO: Cool pictures for geocoding"
   ]
  },
  {
   "cell_type": "markdown",
   "id": "80c24920-80bb-416c-865f-07f990cb118e",
   "metadata": {},
   "source": [
    "## What are geocodes?\n",
    "\n",
    "> Geocodes are basically a **set of latitude and longitude coordinates of a physical location**.\n",
    "\n",
    "TODO: Picture of output after geocoding"
   ]
  },
  {
   "cell_type": "markdown",
   "id": "28cca971-c4ce-4f58-a984-67da3cc803d2",
   "metadata": {},
   "source": [
    "## Types of Geographic Location Descriptions that can be geocoded\n",
    "\n",
    "1. Addresses\n",
    "\n",
    "This is the most common source of input for geocoding. \n",
    "\n",
    "TODO: A picture of addresses\n",
    "\n",
    "2. Place Names\n",
    "\n",
    "Place Names are hard to resolve and hence hard to geocode. Most of the current geocoders doesn't handle place names better. But geocoding services provided by vendors such as Google, Bing, and Baidu are very good at handling place names mainly due to the large place name database they posses. \n",
    "\n",
    "TODO: Example of placenames"
   ]
  },
  {
   "cell_type": "markdown",
   "id": "ce44b1b5-03aa-4f94-983c-85143e1c55dd",
   "metadata": {},
   "source": [
    "Now let's get our hand dirty!!"
   ]
  },
  {
   "cell_type": "markdown",
   "id": "56741ef0-ab58-47b4-82f4-ef9fa74dc862",
   "metadata": {},
   "source": [
    "## Time to Geocode"
   ]
  },
  {
   "cell_type": "markdown",
   "id": "d028d81c-34b0-4ca2-9726-904e59753d8e",
   "metadata": {},
   "source": [
    "For goeocoding in QGIS we would need a plugin called MMQGIS (its a one time installation). \n",
    "\n",
    "1. Install MMQGIS plugin (this is a one time installation)\n",
    "\n",
    "Select the plugin drop down from the menu bar and select the \"Manage and Install Plugins\" option\n",
    "\n",
    "![geocode3](images/geocode3.PNG)\n",
    "\n",
    "Search for MMQGIS and install it. \n",
    "\n",
    "![geocode4](images/geocode4.PNG)\n",
    "\n",
    "Now you should see the MMQGIS drop down in the menu bar\n",
    "\n",
    "![geocode5](images/geocode5.PNG)\n",
    "\n",
    "2. Select Geocode and Geocode CSV with webservice from MMQGIS\n",
    "\n",
    "![geocode6](images/geocode6.PNG)\n",
    "\n",
    "3. Select the CSV file that we have loaded earlier and populate the necessary fields\n",
    "\n",
    "We are using OpenStreetMap as its free (US Census Bureau is also free). You can also select the location and the filename you want for the output. The output will be a shapefile for the ones that are succesfully geocoded and a csv file for the ones that are not geocoded.\n",
    "\n",
    "![geocode7](images/geocode7.PNG)\n",
    "\n",
    "4. Click on Apply and then wait for geocoding to finish. \n",
    "\n",
    "You can see the total number of addresses that needs to be geocoded and the ones that are successfully geocoded in the ptogress bar. In our case there were 99 addresses out of which 64 were geocoded to a location (64%) (which is very poor!!) and 35 addresses didn't have a valid geocode. The one's that are not geocoded are saved to a new csv file which can be further investigated up on. \n",
    "\n",
    "![geocode8](images/geocode8.PNG)\n",
    "\n",
    "Once the geocoding is completed there will be a new layer in our layer window and our map layer will have the geocoded points\n",
    "\n",
    "![geocode9](images/geocode9.PNG)\n",
    "\n",
    "We can try with census bureau geocoder too which should geocode 96 out of 99 locations (96%). \n",
    "\n",
    "You can open the attribute table for the new layer that was created and can explore the variuos fields that were added as result of the geocoding. \n",
    "\n",
    "Yay!!!!!that's our first venture into geocoding.....\n",
    "\n",
    "But are we satisified with our results. What is the additional thing we need to be aware of. "
   ]
  },
  {
   "cell_type": "markdown",
   "id": "d3edf470-c6e1-4fb1-932a-9a29dd8572e3",
   "metadata": {},
   "source": [
    "## Accuracy"
   ]
  },
  {
   "cell_type": "markdown",
   "id": "45d13196-4d16-4f6f-a776-e0bbdfa02ca7",
   "metadata": {},
   "source": [
    "One of the key metric for assessing the result of a geocoding task is \"Accuracy\". If you examine the attribute table of the new layer that was created as a result of the geocoding task you could see that there is no attribute that shows the geocoding accuracy. \n",
    "\n",
    "To highlight the issue lets see an example\n",
    "\n",
    "Download the data from https://cwru.box.com/s/li6p5m9ta9yt56kot3ici2lexgx7acd5\n",
    "\n",
    "It has 4 addresses. The real address is 2439 Overlook Rd, Cleveland,OH\n",
    "\n",
    "The address with id 1 is the right address, while address corresponding to id 2 (243999 Overlook Rd Overlook Rd) doesn't exist. Address for id 3 has a typo (2439 Ovrlook Rd), while the address for id 4 (2439 Overlook Rd, Kent) has the worng city and hence is non-existent.\n",
    "\n",
    "If you run geocoding using Open Street geocoding service, you will find that two locations are geocoded. If you open the attribute table for the geocode you will find that while Address 2439 Overlook Rd, Cleveland,OH is correctly matched, the address 243999 Overlook Rd Overlook Rd is matched to Overlook Rd, Cleveland,OH (which is a street segment). The difference can be noticed in the \"category\" and \"type\" columns too. While the correct address has category as \"place\" and type as \"house\", the supposedly wrong address has category as \"highway\" and type as \"residential\". These columns could be a potential filter to weed out the inaccurate results. \n",
    " \n",
    "![geocode10](images/geocode10.PNG)\n",
    "\n",
    "If you run geocoding with Census Bureau, again you will have two locations geocoded. But this time one of the result is for the misspelled address (2439 Ovrlook Rd). In this case Census Bureau geocoding has rightly identified the misspelled address (2439 Ovrlook Rd) as 2439 Overlook Rd (from the \"matchedAdd\" column), which is actually great!!. \n",
    "\n",
    "![geocode11](images/geocode11.PNG)\n",
    "\n",
    "\n",
    "This simple experiment shows some interesting facts about accuracy of geocoders\n",
    "\n",
    "1. Geocoding results vary with geocoding services.\n",
    "\n",
    "2. Data entry errors such as typos are much efficiently handled by some geocoders than others.\n",
    "\n",
    "3. Without a metric for accuracy it would be foolhardy to completely rely on geocoding results. The geocoders can silently generate inaccurate results without any warnings. For example geocoders can assign the geocode of an address to a street/zip or even a state centroid without any warning. "
   ]
  },
  {
   "cell_type": "markdown",
   "id": "5e43b4d8-2ecb-426d-91d8-73a485281c63",
   "metadata": {},
   "source": [
    "## Various levels of Geocode"
   ]
  },
  {
   "cell_type": "markdown",
   "id": "f7d33f81-9252-40e4-ae95-614346b6afec",
   "metadata": {},
   "source": [
    "A coordinate can be assigned to an address based on various level of information a geocoder has\n",
    "\n",
    "1. Rooftop Geocodes\n",
    "\n",
    "It is the most accurate geocode type and provides the exact location for the address.\n",
    "\n",
    "TODO: A picture of rooftop geocode\n",
    "\n",
    "2. Parcel Centroid Geocodes\n",
    "\n",
    "In this case the address is assigned to the centroid of the parcel boundary for the property. *\"A 'parcel', 'lot', or 'tract' is a piece of land (or 'real property') with defined boundaries. \"*. This is also relatively accurate. \n",
    "\n",
    "TODO: A picture of parcel centroid geocode\n",
    "\n",
    "3. Interpolated Geocodes\n",
    "\n",
    "Interpolation methods uses information about address number ranges to estimate the position of a numbered address. For example there is no direct address match for the location 1149 38th St, Sacramento, California, 95816. But if the geocoder has the street segment (which is a line segment) geometry with it and if the address range of 38 street starts from 1001 and ends at 1299, the geocoder will assign the center point of the street line as the geocode for 1149 38th St, Sacramento, California, 95816.\n",
    "\n",
    "Is that accurate???. Well it depends up on what level of accuracy you are looking for.\n",
    "\n",
    "TODO: A picture of interpolated geocode\n",
    "\n",
    "4. Zip Geocode\n",
    "\n",
    "In this type of geocode, the address is assigned to the centroid of Zip code polygon that it resids in. For example if the geocoder is not able to geocode the address 2439 Overlook Rd, Cleveland,Ohio,44106, it can assign the address to the centroid of the Zip code poylgon for 44106. This type of approach has a very low accuracy and users should be aware of such assignments.\n",
    "\n",
    "TODO: A picture of zip geocode"
   ]
  },
  {
   "cell_type": "markdown",
   "id": "804884bd-a054-4ab3-b066-7d73f2ff37fd",
   "metadata": {},
   "source": [
    "## Geocoding Pitfalls and Remedies"
   ]
  },
  {
   "cell_type": "markdown",
   "id": "d7a3be99-ebba-4698-9a9d-dc5a8c8dc3cf",
   "metadata": {},
   "source": [
    "As we have seen Geocoding Accuracy is arbitary. There is no one answer for how accurate geocoding is because there are several factors that you need to consider before you can accurately answer this question. The accuracy of your geocoding may vary depending on how you carry it out, the clause or data you use for it, and so much more.\n",
    "\n",
    "The level of geocoding accuracy you need depends up on the question you are asking\n",
    "\n",
    "1. If you want to identify clusters of a particular infectious disease and notify first responders, then you better be careful about geocoding accuracy. You also want to make usre that you don't loose much of valuable information by tossing away records that are not geocoded. \n",
    "\n",
    "A problem with geocodes such as zip centroid is that it can generate \"spurious clusters\" during analysis. For example if a geocoder is matching many addresses to a zip code centroid for the zip code 44106, then there would be a sudden increase of cases at the zip code centroid which will raise a false alarm (such issues are very common in EHR databases).\n",
    "\n",
    "TODO: Image\n",
    "\n",
    "2. Use of **remote geocoding webservices can be a violation of privacy rules for health data.**\n",
    "\n",
    "If you are using remote webservices (which sends request via internet) for geocding, you are obviuosly sending health data (which is supposed to highly confidential) over the wire (internet). The organization that is provideing the geocoding service can collect the addresses as well as other private information from such requests. \n",
    "\n",
    "The work around will be to use standalone geocoder, where the address database sits locally or at a secure research location. Such kind of standalone geocoders are provided by ArcGIS (needs license) or you can build your own geocoding service using a readily available data source like the Tiger Line files and a database like PostgreSQL  \n",
    "\n",
    "TODO: Image\n",
    "\n",
    "3. Tossing records that doesn't have geocode when data is at a premium.\n",
    "\n",
    "If you are looking at a rather new and complex disease that is spread only among a few people, you would not want to toss out records that doesn't have a geocode, rather you could try multiple geocoders (depending up on your budget availability) to extract out the geocode. \n",
    "\n",
    "TODO: Image\n",
    "\n",
    "4. If you just want to aggregate the addresses at zip code level and if the addresses already have a zip code number, you don't even need to perfrom the relatively costly geocoding. \n",
    "\n",
    "You can directly extract out the zip code number from the address and at a later point merge it to a zip code polygon that has the zip code number as its attribute ( we will look into such table based merges in the upcoming sessions). \n",
    "\n",
    "TODO: Image"
   ]
  },
  {
   "cell_type": "markdown",
   "id": "904be93e-8921-4f3f-bf3d-321de998ebdc",
   "metadata": {},
   "source": [
    "Equipped with the strength of converting addresses magically into their locations, you can proceed to the next section where you will learn about mapping, which is one of the key skill you need to posses as a geospatial developer or researcher. "
   ]
  },
  {
   "cell_type": "markdown",
   "id": "e7d43b90-5ae3-4e78-b1b6-58542c1deae5",
   "metadata": {},
   "source": [
    "Before leaving one quick look at how we can geocode using Python (for Pythonista)"
   ]
  },
  {
   "cell_type": "code",
   "execution_count": 17,
   "id": "56fe4621-a859-460f-9d7f-ec72e739581a",
   "metadata": {},
   "outputs": [],
   "source": [
    "import geopandas as gpd\n",
    "#the addresses to geocode\n",
    "toGeocode=gpd.read_file(r'../sharedData/Address_Zip_44106_small.csv')\n",
    "# concatenate the fields together\n",
    "toGeocode['fullAddress'] = toGeocode['Address']+','+toGeocode['CITY']+','+toGeocode['REGION']+','+toGeocode['POSTCODE'].astype(str)\n",
    "#get the geocoded address as geodataframe\n",
    "geoCoded = gpd.tools.geocode(toGeocode.fullAddress)"
   ]
  },
  {
   "cell_type": "code",
   "execution_count": 18,
   "id": "ae820735-3df8-4fbc-bfe4-3f96d4be5aaf",
   "metadata": {},
   "outputs": [
    {
     "name": "stdout",
     "output_type": "stream",
     "text": [
      "                      geometry  \\\n",
      "0   POINT (-81.59933 41.50950)   \n",
      "1   POINT (-81.59578 41.49795)   \n",
      "2   POINT (-81.59933 41.50950)   \n",
      "3   POINT (-81.59933 41.50950)   \n",
      "4   POINT (-81.60100 41.49654)   \n",
      "..                         ...   \n",
      "94  POINT (-81.60241 41.51422)   \n",
      "95  POINT (-81.60241 41.51422)   \n",
      "96  POINT (-81.60241 41.51422)   \n",
      "97  POINT (-81.60070 41.50139)   \n",
      "98  POINT (-81.60532 41.50000)   \n",
      "\n",
      "                                              address  \n",
      "0   East 120th Street, 44106, Cleveland, Ohio, Uni...  \n",
      "1   Delaware Drive, 44106, Cleveland Heights, Ohio...  \n",
      "2   East 120th Street, 44106, Cleveland, Ohio, Uni...  \n",
      "3   East 120th Street, 44106, Cleveland, Ohio, Uni...  \n",
      "4   Denton Drive, 44106, Cleveland Heights, Ohio, ...  \n",
      "..                                                ...  \n",
      "94  East 118th Street, 44106, Cleveland, Ohio, Uni...  \n",
      "95  East 118th Street, 44106, Cleveland, Ohio, Uni...  \n",
      "96  East 118th Street, 44106, Cleveland, Ohio, Uni...  \n",
      "97  Case Western Reserve University, 10900, Euclid...  \n",
      "98  Cedar–University, Cedar Avenue, 44106, Cedar A...  \n",
      "\n",
      "[99 rows x 2 columns]\n"
     ]
    }
   ],
   "source": [
    "print (geoCoded)"
   ]
  },
  {
   "cell_type": "code",
   "execution_count": 19,
   "id": "16da727d-c900-4f8a-8c6b-8abeed3e3dcc",
   "metadata": {},
   "outputs": [
    {
     "data": {
      "image/png": "[encoded data removed]",
      "text/plain": [
       "<Figure size 432x288 with 1 Axes>"
      ]
     },
     "metadata": {
      "needs_background": "light"
     },
     "output_type": "display_data"
    }
   ],
   "source": [
    "geoCoded.plot();"
   ]
  },
  {
   "cell_type": "code",
   "execution_count": null,
   "id": "3b73048f-1492-478a-b4d5-c7c9b09fc3cf",
   "metadata": {},
   "outputs": [],
   "source": []
  }
 ],
 "metadata": {
  "kernelspec": {
   "display_name": "Python 3 (ipykernel)",
   "language": "python",
   "name": "python3"
  },
  "language_info": {
   "codemirror_mode": {
    "name": "ipython",
    "version": 3
   },
   "file_extension": ".py",
   "mimetype": "text/x-python",
   "name": "python",
   "nbconvert_exporter": "python",
   "pygments_lexer": "ipython3",
   "version": "3.9.7"
  }
 },
 "nbformat": 4,
 "nbformat_minor": 5
}
